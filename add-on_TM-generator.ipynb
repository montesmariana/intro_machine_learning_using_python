{
 "cells": [
  {
   "cell_type": "markdown",
   "id": "45eba7f4",
   "metadata": {},
   "source": [
    "# Source and target text aligner\n",
    "Sometimes, you still have some translations left over from a time where you didn't use CAT-tools and you'd like to feed them into your translation memory. Some CAT-tools have built-in text aligners, but not all of them, so how do you go from two separate text documents to an aligned bilingual (csv-)file ready to be fed into your TM?"
   ]
  },
  {
   "cell_type": "markdown",
   "id": "cd681b03",
   "metadata": {},
   "source": [
    "## Step one: Prepare the source and target text\n",
    "The easiest file format to start from is a pure txt-file... and since for a TM only the pure text is of interest, converting a Word-, PowerPoint- or whatever file to a txt-file isn't an issue. So, we'll take the original source and target document and export them to a txt-format (with utf-8 encoding).\n",
    "## Step two: Store the two (continuous) texts into variables"
   ]
  },
  {
   "cell_type": "code",
   "execution_count": 1,
   "id": "4ccbdff0",
   "metadata": {},
   "outputs": [
    {
     "data": {
      "text/plain": [
       "'Introduction to Machine Learning with Python.\\n\\nThis module provides an introduction to the basic concepts and use of the Python programming language in support of translation. Focus lies on the main concepts that include Natural Language Processing, automation, text analysis and machine learning.\\n'"
      ]
     },
     "execution_count": 1,
     "metadata": {},
     "output_type": "execute_result"
    }
   ],
   "source": [
    "with open('python_en.txt', encoding = 'utf-8') as f:\n",
    "    st_1 = f.read()\n",
    "st_1"
   ]
  },
  {
   "cell_type": "code",
   "execution_count": 2,
   "id": "01e779fd",
   "metadata": {},
   "outputs": [
    {
     "data": {
      "text/plain": [
       "'Introduction au machine learning à l’aide de Python.\\n\\nCe module offre une introduction aux concepts de base et à l’utilisation du langage de programmation Python comme aide à la traduction. L’accent est mis sur le traitement du langage naturel (NLP), l’automatisation, l’analyse de texte et le machine learning.\\n'"
      ]
     },
     "execution_count": 2,
     "metadata": {},
     "output_type": "execute_result"
    }
   ],
   "source": [
    "with open('python_fr.txt', encoding = 'utf-8') as f:\n",
    "    tt_1 = f.read()\n",
    "tt_1"
   ]
  },
  {
   "cell_type": "markdown",
   "id": "7c32d752",
   "metadata": {},
   "source": [
    "## Step three: Split the single text string into list of sentences\n",
    "Since most TMs (and CAT-tools) use sentence segmentation, the source and target text need to be split up into sentences. So, each text becomes a list of separate sentences.\n",
    "\n",
    "For this, we use `nltk tokenizer`, which functions with English and French (and many other languages, but English and French are the ones that interest us right now)."
   ]
  },
  {
   "cell_type": "code",
   "execution_count": 3,
   "id": "fa4734fa",
   "metadata": {},
   "outputs": [
    {
     "data": {
      "text/plain": [
       "['Introduction to Machine Learning with Python.',\n",
       " 'This module provides an introduction to the basic concepts and use of the Python programming language in support of translation.',\n",
       " 'Focus lies on the main concepts that include Natural Language Processing, automation, text analysis and machine learning.']"
      ]
     },
     "execution_count": 3,
     "metadata": {},
     "output_type": "execute_result"
    }
   ],
   "source": [
    "from nltk.tokenize import sent_tokenize\n",
    "split_st_1 = sent_tokenize(st_1, language = 'english')\n",
    "split_st_1"
   ]
  },
  {
   "cell_type": "code",
   "execution_count": 4,
   "id": "afdef22f",
   "metadata": {},
   "outputs": [
    {
     "data": {
      "text/plain": [
       "['Introduction au machine learning à l’aide de Python.',\n",
       " 'Ce module offre une introduction aux concepts de base et à l’utilisation du langage de programmation Python comme aide à la traduction.',\n",
       " 'L’accent est mis sur le traitement du langage naturel (NLP), l’automatisation, l’analyse de texte et le machine learning.']"
      ]
     },
     "execution_count": 4,
     "metadata": {},
     "output_type": "execute_result"
    }
   ],
   "source": [
    "from nltk.tokenize import sent_tokenize\n",
    "split_tt_1 = sent_tokenize(tt_1, language = 'french')\n",
    "split_tt_1"
   ]
  },
  {
   "cell_type": "markdown",
   "id": "a554c888",
   "metadata": {},
   "source": [
    "## Step four: Aligning those lists and exporting the tuples list to a csv-file\n",
    "Writing a csv-file looks fairly similar to reading a txt-file, like we did at the start of the process, except this time we use `f.write` instead of `f.read`.\n",
    "A csv-file consists of rows, often a first header row with the label of each column, followed by the actual content of the file. Both are defined separately.\n",
    "- The content of the header row  (defined in the first indented line) simply consists of the language codes of the source and target language.\n",
    "- The content of the next rows (defined in the next indented lines) contains our texts.\n",
    "    - The `zip()`-function aligns the first sentence of the source text with the first sentence of the target text, the second with the second... and so on in x, y tuples.\n",
    "    - Next, those tuples are put inside an f-string that separates x and y with a tab and places makes a new line start after each y."
   ]
  },
  {
   "cell_type": "code",
   "execution_count": 5,
   "id": "c07d868f",
   "metadata": {},
   "outputs": [],
   "source": [
    "with open(\"translation_memory.csv\", \"w\", encoding = \"utf-8\") as f: # open file to overwrite\n",
    "    f.write(\"EN\\tFR\\n\") # write heading\n",
    "    for x, y in zip(split_st_1, split_tt_1): # go through each pair of lines\n",
    "        f.write(f\"{x}\\t{y}\\n\") # write the line"
   ]
  },
  {
   "cell_type": "markdown",
   "id": "b3ffb77f",
   "metadata": {},
   "source": [
    "## Step five: Admiring our work\n",
    "Using pandas, we can read the newly created csv-file."
   ]
  },
  {
   "cell_type": "code",
   "execution_count": 6,
   "id": "f1a8de6c",
   "metadata": {},
   "outputs": [],
   "source": [
    "import pandas as pd"
   ]
  },
  {
   "cell_type": "code",
   "execution_count": 7,
   "id": "2f5e0b81",
   "metadata": {},
   "outputs": [
    {
     "data": {
      "text/html": [
       "<div>\n",
       "<style scoped>\n",
       "    .dataframe tbody tr th:only-of-type {\n",
       "        vertical-align: middle;\n",
       "    }\n",
       "\n",
       "    .dataframe tbody tr th {\n",
       "        vertical-align: top;\n",
       "    }\n",
       "\n",
       "    .dataframe thead th {\n",
       "        text-align: right;\n",
       "    }\n",
       "</style>\n",
       "<table border=\"1\" class=\"dataframe\">\n",
       "  <thead>\n",
       "    <tr style=\"text-align: right;\">\n",
       "      <th></th>\n",
       "      <th>EN</th>\n",
       "      <th>FR</th>\n",
       "    </tr>\n",
       "  </thead>\n",
       "  <tbody>\n",
       "    <tr>\n",
       "      <th>0</th>\n",
       "      <td>Introduction to Machine Learning with Python.</td>\n",
       "      <td>Introduction au machine learning à l’aide de P...</td>\n",
       "    </tr>\n",
       "    <tr>\n",
       "      <th>1</th>\n",
       "      <td>This module provides an introduction to the ba...</td>\n",
       "      <td>Ce module offre une introduction aux concepts ...</td>\n",
       "    </tr>\n",
       "    <tr>\n",
       "      <th>2</th>\n",
       "      <td>Focus lies on the main concepts that include N...</td>\n",
       "      <td>L’accent est mis sur le traitement du langage ...</td>\n",
       "    </tr>\n",
       "  </tbody>\n",
       "</table>\n",
       "</div>"
      ],
      "text/plain": [
       "                                                  EN  \\\n",
       "0      Introduction to Machine Learning with Python.   \n",
       "1  This module provides an introduction to the ba...   \n",
       "2  Focus lies on the main concepts that include N...   \n",
       "\n",
       "                                                  FR  \n",
       "0  Introduction au machine learning à l’aide de P...  \n",
       "1  Ce module offre une introduction aux concepts ...  \n",
       "2  L’accent est mis sur le traitement du langage ...  "
      ]
     },
     "execution_count": 7,
     "metadata": {},
     "output_type": "execute_result"
    }
   ],
   "source": [
    "read_tm = pd.read_csv('translation_memory.csv', sep = '\\t')\n",
    "read_tm.head()"
   ]
  }
 ],
 "metadata": {
  "kernelspec": {
   "display_name": "Python 3 (ipykernel)",
   "language": "python",
   "name": "python3"
  },
  "language_info": {
   "codemirror_mode": {
    "name": "ipython",
    "version": 3
   },
   "file_extension": ".py",
   "mimetype": "text/x-python",
   "name": "python",
   "nbconvert_exporter": "python",
   "pygments_lexer": "ipython3",
   "version": "3.9.16"
  }
 },
 "nbformat": 4,
 "nbformat_minor": 5
}
