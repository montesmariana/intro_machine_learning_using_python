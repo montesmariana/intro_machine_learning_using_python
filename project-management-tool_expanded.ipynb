{
 "cells": [
  {
   "cell_type": "markdown",
   "id": "14eadce4",
   "metadata": {},
   "source": [
    "# The two classes\n",
    "Below, you'll find the two classes described in `README.md`. Make their respective cells run to initialise the classes."
   ]
  },
  {
   "cell_type": "code",
   "execution_count": 1,
   "id": "2480b610",
   "metadata": {},
   "outputs": [],
   "source": [
    "import datetime\n",
    "\n",
    "\"\"\"This script gives a translation agency an overview of all its projects.\n",
    "\"\"\"\n",
    "\n",
    "class Project:\n",
    "\n",
    "    def __init__(\n",
    "        self,\n",
    "        title,\n",
    "        client,\n",
    "        source,\n",
    "        target,\n",
    "        words,\n",
    "        start,\n",
    "        deadline,\n",
    "        price,\n",
    "        tm,\n",
    "        translator = 'internal',\n",
    "        reviewer = 'internal',\n",
    "        status = 'created',\n",
    "        domain = ''):\n",
    "        \"\"\"Initialises an object of the Project class, a class that represents a translation project of a translation agency.\n",
    "        \n",
    "            Args:\n",
    "                title (str): Title of the project (typically the title of the source document, or the overall title the agency gave the project if there's more than one document to be translated).\n",
    "                client (str): Client who ordered the translation.\n",
    "                source (str): Language of the source document(s) (document(s) to be translated).\n",
    "                target (str): Language of the target document(s) (translation(s)).\n",
    "                words (int): Word count of the source document(s).\n",
    "                start (str): Project's start date in ISO format (YYYY-MM-DD).\n",
    "                deadline (str): Project's deadline in ISO format (YYYY-MM-DD).\n",
    "                price (float): Total price invoiced to the client (excl. VAT).\n",
    "                tm (bool): Whether a translation memory is available for this project.\n",
    "                translator (string, optional): Translator assigned to the project. Defaults to 'internal'.\n",
    "                reviewer (string, optional): Reviewer assigned to the project. Defaults to 'internal'.\n",
    "                status (string, optional): Current project status inside the agency's workflow. Defaults to 'created'.\n",
    "                domain (str, optional): Overall domain to which the project belongs. Defaults to an empty string.\n",
    "        \n",
    "            Attributes:\n",
    "                title (str): Title of the project (typically the title of the source document, or the overall title the agency gave the project if there's more than one document to be translated).\n",
    "                client (str): Client who ordered the translation.\n",
    "                source (str): Language of the source document(s) (document(s) to be translated).\n",
    "                target (str): Language of the target document(s) (translation(s)).\n",
    "                words (int): Word count of the source document(s).\n",
    "                start (str): Project's start date in ISO format (YYYY-MM-DD).\n",
    "                deadline (str): Project's deadline in ISO format (YYYY-MM-DD).\n",
    "                price (float): Total price invoiced to the client (excl. VAT).\n",
    "                tm (bool): Whether a translation memory is available for this project.\n",
    "                translator (string, optional): Translator assigned to the project.\n",
    "                reviewer (string, optional): Reviewer assigned to the project.\n",
    "                status (string, optional): Current project status inside the agency's workflow.\n",
    "                domain (str): Overall domain to which the project belongs.\n",
    "                today (date): Date of the day where the script is run.\n",
    "                st (date): Project's start date, turned from an ISO-formatted string into a date.\n",
    "                dl (date): Project's deadline, turned from an ISO-formatted string into a date.\n",
    "                daysleft (timedelta): Time left until the project's deadline.\n",
    "                length (timedelta): Total time allocated to the project.\n",
    "                rate (float): Project's word rate.\n",
    "                efficiency (float): Number of words to be translated or revised per day to meet the deadline (assuming a five-day workweek).\n",
    "            \n",
    "            Raises:\n",
    "                TypeError: If 'title' is not a string.\n",
    "                TypeError: If 'client' is not a string.\n",
    "                TypeError: If 'source' is not a string.\n",
    "                TypeError: If 'target' is not a string.\n",
    "                TypeError: If 'words' is not an integer.\n",
    "                TypeError: If 'start' is not a string.\n",
    "                ValueError: If 'start' does not follow the pattern 4 digits-2 digits-2 digits.\n",
    "                TypeError: If 'deadline' is not a string.\n",
    "                ValueError: If 'deadline' does not follow the pattern 4 digits-2 digits-2 digits.\n",
    "                TypeError: If 'price' is not a float.\n",
    "                TypeError: If 'tm' is not a boolean.\n",
    "                TypeError: If 'translator' is not a string.\n",
    "                TypeError: If 'reviewer' is not a string.\n",
    "                TypeError: If 'status' is not a string.\n",
    "                ValueError: If 'status' is not a label in the agency workflow: created, in translation, in revision, delivered, delayed, cancel(l)ed.\n",
    "                TypeError: If 'domain' is not a string.\n",
    "        \"\"\"\n",
    "        if type(title) != str:\n",
    "            raise TypeError(\"The title must be a string.\")\n",
    "        else:\n",
    "            self.title = title\n",
    "        if type(client) != str:\n",
    "            raise TypeError(\"The client name must be a string.\")\n",
    "        else:\n",
    "            self.client = client\n",
    "        if type(source) != str:\n",
    "            raise TypeError(\"The source language must be a string.\")\n",
    "        else:\n",
    "            self.source = source\n",
    "        if type(target) != str:\n",
    "            raise TypeError(\"The target langague must be a string.\")\n",
    "        else:\n",
    "            self.target = target\n",
    "        if type(words) != int:\n",
    "            raise TypeError(\"The word count must be an integer.\")\n",
    "        else:\n",
    "            self.words = words\n",
    "        if type(start) != str:\n",
    "            raise TypeError(\"The start date must be provided as a string.\")\n",
    "        try:\n",
    "            self.st = datetime.date.fromisoformat(start)\n",
    "        except:\n",
    "            raise TypeError(\"The start date must be provided in ISO format\")\n",
    "        else:\n",
    "            self.start = start\n",
    "        if type(deadline) != str:\n",
    "            raise TypeError(\"The deadline must be provided as a string.\")\n",
    "        try:\n",
    "            self.dl = datetime.date.fromisoformat(deadline)\n",
    "        except:\n",
    "            raise TypeError(\"The deadline must be provided in ISO format\")\n",
    "        else:\n",
    "            self.deadline = deadline\n",
    "        if type(price) != float:\n",
    "            raise TypeError(\"The price must be a float.\")\n",
    "        else:\n",
    "            self.price = price\n",
    "        if type(tm) != bool:\n",
    "            raise TypeError(\"The TM availability must be a boolean.\")\n",
    "        else:\n",
    "            self.tm = tm\n",
    "        if type(translator) != str and type(translator) != Freelancer:\n",
    "            raise TypeError(\"The translator's name must be a string or an entry in our freelancer database.\")\n",
    "        elif translator == '':\n",
    "            self.translator = \"internal\"\n",
    "        else:\n",
    "            self.translator = translator\n",
    "        if type(reviewer) != str and type(reviewer) != Freelancer:\n",
    "            raise TypeError(\"The reviewer's name must be a string or an entry in our freelancer database.\")\n",
    "        elif reviewer == '':\n",
    "            self.reviewer = \"internal\"\n",
    "        else:\n",
    "            self.reviewer = reviewer\n",
    "        if type(status) != str:\n",
    "            raise TypeError(\"The status must be a string.\")\n",
    "        elif status == '':\n",
    "            self.status = \"created\"\n",
    "        elif not status.lower() in [\"created\",\n",
    "                                     \"in translation\",\n",
    "                                     \"in revision\",\n",
    "                                     \"delivered\",\n",
    "                                     \"delayed\",\n",
    "                                     \"cancelled\",\n",
    "                                     \"canceled\"]:\n",
    "            raise ValueError(\"Please pick a status from the workflow: created, in translation, in revision, delivered, delayed or cancelled.\")\n",
    "        else:\n",
    "            self.status = status\n",
    "        if type(domain) != str:\n",
    "            raise TypeError(\"The domain must be a string.\")\n",
    "        else:\n",
    "            self.domain = domain\n",
    "                \n",
    "        today = datetime.date.today()\n",
    "        self.daysleft = self.dl - today\n",
    "        self.length = self.dl - self.st\n",
    "        self.rate = self.price/self.words\n",
    "        self.efficiency = words/((5/7)*self.length.days)\n",
    "\n",
    "    def days_left(self):\n",
    "        \"\"\"Displays how many days remain until the project deadline.\n",
    "        \n",
    "        Args:\n",
    "            None\n",
    "            \n",
    "        Returns:\n",
    "            str: A message informing the user that the deadline has been exceeded already if the deadline is in the past.\n",
    "            str: A message informing the user of the number of days left until the deadline if the deadline is not in the past.\n",
    "        \"\"\"\n",
    "        if self.dl < datetime.date.today():\n",
    "            return f\"The deadline has been exceeded already.\"\n",
    "        else:\n",
    "            return f\"There are {self.daysleft.days} days left until the deadline.\"\n",
    "    \n",
    "    def project_length(self):\n",
    "        \"\"\"Displays the total number of days allocated to the project.\n",
    "        \n",
    "        Args:\n",
    "            None\n",
    "        \n",
    "        Returns:\n",
    "            str: The total number of days allocated to the project.\n",
    "        \"\"\"\n",
    "        return f\"{self.length.days} days\"\n",
    "    \n",
    "    def __str__(self):\n",
    "        # defines the print behaviour: returns a text providing the main information about the project\n",
    "        sent_1 = f\"{self.title} is a translation for {self.client} from {self.source} into {self.target}.\"\n",
    "        if self.translator.lower() == \"internal\" and self.reviewer.lower() == \"internal\":\n",
    "            sent_2 = f\"Both the translator and the reviewer are agency collaborators.\"\n",
    "        elif self.translator.lower() == \"internal\" and self.reviewer.lower() != \"internal\":\n",
    "            sent_2 = f\"The translator is an agency collaborator and the reviewer is {self.reviewer}.\"\n",
    "        elif self.translator.lower() != \"internal\" and self.reviewer.lower() == \"internal\":\n",
    "            sent_2 = f\"The translator is {self.translator} and the reviewer is an agency collaborator.\"\n",
    "        else:\n",
    "            sent_2 = f\"The translator is {self.translator} and the reviewer is {self.reviewer}.\"\n",
    "        # this if-statement considers whether a domain was added\n",
    "        if len(self.domain) > 0:\n",
    "            sent_3 = f\"The domain is: {self.domain}.\"\n",
    "        else:\n",
    "            sent_3 = \"The domain is unspecified.\" # if no domain was added, the text mentions it\n",
    "        sent_4 = f\"It's {self.words} words long, with a rate of {round(self.rate, 2)} € per word.\" #the word rate is rounded to two decimal places to avoid cumbersomely long numbers\n",
    "        # this if-statement considers whether the deadline is in the past\n",
    "        if self.dl < datetime.date.today():\n",
    "            sent_5 = f\"It started on {self.st} and was due on {self.dl}, so {self.length.days} days were foreseen for it. To meet the deadline, {round(self.efficiency)} words needed to be translated or revised per day.\" # the efficiency is rounded to units because you can't translate a fraction of a word anyway\n",
    "        else:\n",
    "            sent_5 = f\"It started on {self.st} and is due on {self.dl}, so {self.length.days} days are foreseen for it, of which {self.daysleft.days} left. To meet the deadline, {round(self.efficiency)} words need to be translated or revised per day.\"\n",
    "        # this if-statement considers whether there is a translation memory for the project\n",
    "        sent_6 = f\"There is {'a' if self.tm else 'no'} translation memory.\"\n",
    "        sent_7 = f\"The project is currently {self.status}.\"\n",
    "        # print each sentence in a different line\n",
    "        return \"\\n\".join([sent_1, sent_2, sent_3, sent_4, sent_5, sent_6, sent_7])"
   ]
  },
  {
   "cell_type": "code",
   "execution_count": 2,
   "id": "14fba222",
   "metadata": {},
   "outputs": [],
   "source": [
    "class Freelancer():\n",
    "\n",
    "    def __init__(self, name, email, phone, ref, task, language):\n",
    "        self.name = name\n",
    "        self.email = email\n",
    "        self.phone = phone\n",
    "        self.ref = ref\n",
    "        self.task = task\n",
    "        self.language = language\n",
    "    \n",
    "    def function_with_kwargs(**kwargs):\n",
    "        if \"name\" in kwargs:\n",
    "            print(kwargs[\"name\"])\n",
    "        else:\n",
    "            print(\"no name found\")\n",
    "    \n",
    "    def __str__(self):\n",
    "        sent_1 = f\"{self.name} can be contacted via e-mail ({self.email}) or via phone ({self.phone}).\"\n",
    "        sent_2 = f\"{self.name}'s reference in our database is {self.ref}.\"\n",
    "        sent_3 = f\"{self.name} works as a {', '.join(self.task)} for {', '.join(self.language)}.\"\n",
    "        return \"\\n\".join([sent_1, sent_2, sent_3])"
   ]
  },
  {
   "cell_type": "markdown",
   "id": "ea7762ef",
   "metadata": {},
   "source": [
    "# Creating and using objects of the Project class"
   ]
  },
  {
   "cell_type": "markdown",
   "id": "336998ee",
   "metadata": {},
   "source": [
    "## Manually\n",
    "It is possible to manually define objects of each class, meaning that you write out each mandatory attribute (and any optional attribute you want to make deviate from the default value), for example:"
   ]
  },
  {
   "cell_type": "code",
   "execution_count": 3,
   "id": "306f2ab3",
   "metadata": {},
   "outputs": [],
   "source": [
    "project1 = Project(\"The project title\", \"some client\", \"FR\", \"EN\", 10000, \"2023-06-17\", \"2023-06-30\", 3600.00, True)"
   ]
  },
  {
   "cell_type": "markdown",
   "id": "e9b9334d",
   "metadata": {},
   "source": [
    "In this case, the name of the object is \"project1\" and no optional attribute differs from the default value. But you can also change all the optional attributes:"
   ]
  },
  {
   "cell_type": "code",
   "execution_count": 4,
   "id": "bcfe2da8",
   "metadata": {},
   "outputs": [],
   "source": [
    "project2 = Project(\"A second project title\", \"another client\", \"NL\", \"DE\", 7500, \"2023-06-16\", \"2023-06-28\", 3200.00, True, \"Sibylle de Woot\", \"Mariana Montes\", \"in translation\", \"education\")"
   ]
  },
  {
   "cell_type": "markdown",
   "id": "109a2949",
   "metadata": {},
   "source": [
    "Or only some of them:"
   ]
  },
  {
   "cell_type": "code",
   "execution_count": 5,
   "id": "dbddfd92",
   "metadata": {},
   "outputs": [],
   "source": [
    "project3 = Project(\"Some other project title\", \"new client\", \"EN\", \"NL\", 12000, \"2023-06-15\", \"2023-06-30\", 3800.00, True, reviewer = \"Sibylle de Woot\", domain = \"healthcare\")"
   ]
  },
  {
   "cell_type": "markdown",
   "id": "3f3586f5",
   "metadata": {},
   "source": [
    "Once an object has been created, you can use the various methods to\n",
    "- Print an overview of all the project information:"
   ]
  },
  {
   "cell_type": "code",
   "execution_count": 6,
   "id": "7390c272",
   "metadata": {},
   "outputs": [
    {
     "name": "stdout",
     "output_type": "stream",
     "text": [
      "The project title is a translation for some client from FR into EN.\n",
      "Both the translator and the reviewer are agency collaborators.\n",
      "The domain is unspecified.\n",
      "It's 10000 words long, with a rate of 0.36 € per word.\n",
      "It started on 2023-06-17 and is due on 2023-06-30, so 13 days are foreseen for it, of which 12 left. To meet the deadline, 1077 words need to be translated or revised per day.\n",
      "There is a translation memory.\n",
      "The project is currently created.\n"
     ]
    }
   ],
   "source": [
    "print(project1)\n",
    "# The printing method is the only one that doesn't require you to specify that it's specific to the Project class, you simply need the name of the object"
   ]
  },
  {
   "cell_type": "code",
   "execution_count": 7,
   "id": "4c36e4ee",
   "metadata": {},
   "outputs": [
    {
     "name": "stdout",
     "output_type": "stream",
     "text": [
      "A second project title is a translation for another client from NL into DE.\n",
      "The translator is Sibylle de Woot and the reviewer is Mariana Montes.\n",
      "The domain is: education.\n",
      "It's 7500 words long, with a rate of 0.43 € per word.\n",
      "It started on 2023-06-16 and is due on 2023-06-28, so 12 days are foreseen for it, of which 10 left. To meet the deadline, 875 words need to be translated or revised per day.\n",
      "There is a translation memory.\n",
      "The project is currently in translation.\n"
     ]
    }
   ],
   "source": [
    "print(project2)"
   ]
  },
  {
   "cell_type": "code",
   "execution_count": 8,
   "id": "80347a4a",
   "metadata": {},
   "outputs": [
    {
     "name": "stdout",
     "output_type": "stream",
     "text": [
      "Some other project title is a translation for new client from EN into NL.\n",
      "The translator is an agency collaborator and the reviewer is Sibylle de Woot.\n",
      "The domain is: healthcare.\n",
      "It's 12000 words long, with a rate of 0.32 € per word.\n",
      "It started on 2023-06-15 and is due on 2023-06-30, so 15 days are foreseen for it, of which 12 left. To meet the deadline, 1120 words need to be translated or revised per day.\n",
      "There is a translation memory.\n",
      "The project is currently created.\n"
     ]
    }
   ],
   "source": [
    "print(project3)"
   ]
  },
  {
   "cell_type": "markdown",
   "id": "eda324f2",
   "metadata": {},
   "source": [
    "- Find out how much time is left until the deadline:"
   ]
  },
  {
   "cell_type": "code",
   "execution_count": 9,
   "id": "de5fc1f5",
   "metadata": {},
   "outputs": [
    {
     "data": {
      "text/plain": [
       "'There are 12 days left until the deadline.'"
      ]
     },
     "execution_count": 9,
     "metadata": {},
     "output_type": "execute_result"
    }
   ],
   "source": [
    "Project.days_left(project1)\n",
    "# To use any other class method, you need to use the format \"Class.method(object)\""
   ]
  },
  {
   "cell_type": "markdown",
   "id": "28055bbe",
   "metadata": {},
   "source": [
    "- Find out how many days are foreseen in total for the project:"
   ]
  },
  {
   "cell_type": "code",
   "execution_count": 10,
   "id": "9b0ac32b",
   "metadata": {},
   "outputs": [
    {
     "data": {
      "text/plain": [
       "'13 days'"
      ]
     },
     "execution_count": 10,
     "metadata": {},
     "output_type": "execute_result"
    }
   ],
   "source": [
    "Project.project_length(project1)"
   ]
  },
  {
   "cell_type": "markdown",
   "id": "0ecd4c69",
   "metadata": {},
   "source": [
    "Attributes can also be retrieved separately, with `object.attribute`, for example"
   ]
  },
  {
   "cell_type": "code",
   "execution_count": 11,
   "id": "ceaf14b8",
   "metadata": {},
   "outputs": [
    {
     "data": {
      "text/plain": [
       "'The project title'"
      ]
     },
     "execution_count": 11,
     "metadata": {},
     "output_type": "execute_result"
    }
   ],
   "source": [
    "project1.title"
   ]
  },
  {
   "cell_type": "code",
   "execution_count": 12,
   "id": "a4c670b8",
   "metadata": {},
   "outputs": [
    {
     "data": {
      "text/plain": [
       "'2023-06-17'"
      ]
     },
     "execution_count": 12,
     "metadata": {},
     "output_type": "execute_result"
    }
   ],
   "source": [
    "project1.start"
   ]
  },
  {
   "cell_type": "code",
   "execution_count": 13,
   "id": "6531970a",
   "metadata": {},
   "outputs": [
    {
     "data": {
      "text/plain": [
       "datetime.timedelta(days=13)"
      ]
     },
     "execution_count": 13,
     "metadata": {},
     "output_type": "execute_result"
    }
   ],
   "source": [
    "project1.length"
   ]
  },
  {
   "cell_type": "markdown",
   "id": "a87fe061",
   "metadata": {},
   "source": [
    "As you can see, the value of the attribute \"length\" isn't very user-friendly, as it is a timedelta computed with the datetime module. That is the reason why the method `project_length` was created, to display the attribute in a more readable way. Another user-friendely ways to display the project length is by printing the attribute, rather than simply retrieving it:"
   ]
  },
  {
   "cell_type": "code",
   "execution_count": 14,
   "id": "12f49f53",
   "metadata": {},
   "outputs": [
    {
     "name": "stdout",
     "output_type": "stream",
     "text": [
      "13 days, 0:00:00\n"
     ]
    }
   ],
   "source": [
    "print(project1.length)"
   ]
  },
  {
   "cell_type": "markdown",
   "id": "3c848675",
   "metadata": {},
   "source": [
    "As you can see, the project length is calculated to the second here. For now, that's not useful, but when a future update allows PMs to specify the start and end time, it will be."
   ]
  },
  {
   "cell_type": "markdown",
   "id": "3d34827c",
   "metadata": {},
   "source": [
    "So, feeding the project information into an object of the `Project` class makes for easy information retrieval and allows the PM to generate a clear global overview of the project in full sentences. However, especially with manual information input, issues can occur when the user makes a typo, or inputs the wrong type of variable. To counter those issues, validation was integrated into the `Project` class. Any wrong variable type raises an error, and the user is asked to use the right variable type.\n",
    "\n",
    "Say, for example, that I forget that the price needs to be a float (i.e. a decimal number):"
   ]
  },
  {
   "cell_type": "code",
   "execution_count": 15,
   "id": "f56b92bc",
   "metadata": {},
   "outputs": [
    {
     "ename": "TypeError",
     "evalue": "The price must be a float.",
     "output_type": "error",
     "traceback": [
      "\u001b[0;31m---------------------------------------------------------------------------\u001b[0m",
      "\u001b[0;31mTypeError\u001b[0m                                 Traceback (most recent call last)",
      "Cell \u001b[0;32mIn[15], line 1\u001b[0m\n\u001b[0;32m----> 1\u001b[0m project4 \u001b[38;5;241m=\u001b[39m \u001b[43mProject\u001b[49m\u001b[43m(\u001b[49m\u001b[38;5;124;43m\"\u001b[39;49m\u001b[38;5;124;43mYet another title\u001b[39;49m\u001b[38;5;124;43m\"\u001b[39;49m\u001b[43m,\u001b[49m\u001b[43m \u001b[49m\u001b[38;5;124;43m\"\u001b[39;49m\u001b[38;5;124;43manother client\u001b[39;49m\u001b[38;5;124;43m\"\u001b[39;49m\u001b[43m,\u001b[49m\u001b[43m \u001b[49m\u001b[38;5;124;43m\"\u001b[39;49m\u001b[38;5;124;43mFR\u001b[39;49m\u001b[38;5;124;43m\"\u001b[39;49m\u001b[43m,\u001b[49m\u001b[43m \u001b[49m\u001b[38;5;124;43m\"\u001b[39;49m\u001b[38;5;124;43mNL\u001b[39;49m\u001b[38;5;124;43m\"\u001b[39;49m\u001b[43m,\u001b[49m\u001b[43m \u001b[49m\u001b[38;5;241;43m8000\u001b[39;49m\u001b[43m,\u001b[49m\u001b[43m \u001b[49m\u001b[38;5;124;43m\"\u001b[39;49m\u001b[38;5;124;43m2023-06-16\u001b[39;49m\u001b[38;5;124;43m\"\u001b[39;49m\u001b[43m,\u001b[49m\u001b[43m \u001b[49m\u001b[38;5;124;43m\"\u001b[39;49m\u001b[38;5;124;43m2023-06-28\u001b[39;49m\u001b[38;5;124;43m\"\u001b[39;49m\u001b[43m,\u001b[49m\u001b[43m \u001b[49m\u001b[38;5;241;43m3300\u001b[39;49m\u001b[43m,\u001b[49m\u001b[43m \u001b[49m\u001b[38;5;28;43;01mTrue\u001b[39;49;00m\u001b[43m,\u001b[49m\u001b[43m \u001b[49m\u001b[38;5;124;43m\"\u001b[39;49m\u001b[38;5;124;43mSibylle de Woot\u001b[39;49m\u001b[38;5;124;43m\"\u001b[39;49m\u001b[43m,\u001b[49m\u001b[43m \u001b[49m\u001b[38;5;124;43m\"\u001b[39;49m\u001b[38;5;124;43mMariana Montes\u001b[39;49m\u001b[38;5;124;43m\"\u001b[39;49m\u001b[43m,\u001b[49m\u001b[43m \u001b[49m\u001b[38;5;124;43m\"\u001b[39;49m\u001b[38;5;124;43min translation\u001b[39;49m\u001b[38;5;124;43m\"\u001b[39;49m\u001b[43m,\u001b[49m\u001b[43m \u001b[49m\u001b[38;5;124;43m\"\u001b[39;49m\u001b[38;5;124;43mtechnical\u001b[39;49m\u001b[38;5;124;43m\"\u001b[39;49m\u001b[43m)\u001b[49m\n",
      "Cell \u001b[0;32mIn[1], line 117\u001b[0m, in \u001b[0;36mProject.__init__\u001b[0;34m(self, title, client, source, target, words, start, deadline, price, tm, translator, reviewer, status, domain)\u001b[0m\n\u001b[1;32m    115\u001b[0m     \u001b[38;5;28mself\u001b[39m\u001b[38;5;241m.\u001b[39mdeadline \u001b[38;5;241m=\u001b[39m deadline\n\u001b[1;32m    116\u001b[0m \u001b[38;5;28;01mif\u001b[39;00m \u001b[38;5;28mtype\u001b[39m(price) \u001b[38;5;241m!=\u001b[39m \u001b[38;5;28mfloat\u001b[39m:\n\u001b[0;32m--> 117\u001b[0m     \u001b[38;5;28;01mraise\u001b[39;00m \u001b[38;5;167;01mTypeError\u001b[39;00m(\u001b[38;5;124m\"\u001b[39m\u001b[38;5;124mThe price must be a float.\u001b[39m\u001b[38;5;124m\"\u001b[39m)\n\u001b[1;32m    118\u001b[0m \u001b[38;5;28;01melse\u001b[39;00m:\n\u001b[1;32m    119\u001b[0m     \u001b[38;5;28mself\u001b[39m\u001b[38;5;241m.\u001b[39mprice \u001b[38;5;241m=\u001b[39m price\n",
      "\u001b[0;31mTypeError\u001b[0m: The price must be a float."
     ]
    }
   ],
   "source": [
    "project4 = Project(\"Yet another title\", \"another client\", \"FR\", \"NL\", 8000, \"2023-06-16\", \"2023-06-28\", 3300, True, \"Sibylle de Woot\", \"Mariana Montes\", \"in translation\", \"technical\")"
   ]
  },
  {
   "cell_type": "markdown",
   "id": "7de66ade",
   "metadata": {},
   "source": [
    "As you can see, the script informs me that the price must be a float. Now, let's say that my numbers are correct, but that I didn't write my dates in ISO format:"
   ]
  },
  {
   "cell_type": "code",
   "execution_count": 16,
   "id": "6e08020c",
   "metadata": {},
   "outputs": [
    {
     "ename": "TypeError",
     "evalue": "The start date must be provided in ISO format",
     "output_type": "error",
     "traceback": [
      "\u001b[0;31m---------------------------------------------------------------------------\u001b[0m",
      "\u001b[0;31mValueError\u001b[0m                                Traceback (most recent call last)",
      "Cell \u001b[0;32mIn[1], line 103\u001b[0m, in \u001b[0;36mProject.__init__\u001b[0;34m(self, title, client, source, target, words, start, deadline, price, tm, translator, reviewer, status, domain)\u001b[0m\n\u001b[1;32m    102\u001b[0m \u001b[38;5;28;01mtry\u001b[39;00m:\n\u001b[0;32m--> 103\u001b[0m     \u001b[38;5;28mself\u001b[39m\u001b[38;5;241m.\u001b[39mst \u001b[38;5;241m=\u001b[39m \u001b[43mdatetime\u001b[49m\u001b[38;5;241;43m.\u001b[39;49m\u001b[43mdate\u001b[49m\u001b[38;5;241;43m.\u001b[39;49m\u001b[43mfromisoformat\u001b[49m\u001b[43m(\u001b[49m\u001b[43mstart\u001b[49m\u001b[43m)\u001b[49m\n\u001b[1;32m    104\u001b[0m \u001b[38;5;28;01mexcept\u001b[39;00m:\n",
      "\u001b[0;31mValueError\u001b[0m: Invalid isoformat string: '23-06-16'",
      "\nDuring handling of the above exception, another exception occurred:\n",
      "\u001b[0;31mTypeError\u001b[0m                                 Traceback (most recent call last)",
      "Cell \u001b[0;32mIn[16], line 1\u001b[0m\n\u001b[0;32m----> 1\u001b[0m project4 \u001b[38;5;241m=\u001b[39m \u001b[43mProject\u001b[49m\u001b[43m(\u001b[49m\u001b[38;5;124;43m\"\u001b[39;49m\u001b[38;5;124;43mYet another title\u001b[39;49m\u001b[38;5;124;43m\"\u001b[39;49m\u001b[43m,\u001b[49m\u001b[43m \u001b[49m\u001b[38;5;124;43m\"\u001b[39;49m\u001b[38;5;124;43manother client\u001b[39;49m\u001b[38;5;124;43m\"\u001b[39;49m\u001b[43m,\u001b[49m\u001b[43m \u001b[49m\u001b[38;5;124;43m\"\u001b[39;49m\u001b[38;5;124;43mFR\u001b[39;49m\u001b[38;5;124;43m\"\u001b[39;49m\u001b[43m,\u001b[49m\u001b[43m \u001b[49m\u001b[38;5;124;43m\"\u001b[39;49m\u001b[38;5;124;43mNL\u001b[39;49m\u001b[38;5;124;43m\"\u001b[39;49m\u001b[43m,\u001b[49m\u001b[43m \u001b[49m\u001b[38;5;241;43m8000\u001b[39;49m\u001b[43m,\u001b[49m\u001b[43m \u001b[49m\u001b[38;5;124;43m\"\u001b[39;49m\u001b[38;5;124;43m23-06-16\u001b[39;49m\u001b[38;5;124;43m\"\u001b[39;49m\u001b[43m,\u001b[49m\u001b[43m \u001b[49m\u001b[38;5;124;43m\"\u001b[39;49m\u001b[38;5;124;43m23-06-28\u001b[39;49m\u001b[38;5;124;43m\"\u001b[39;49m\u001b[43m,\u001b[49m\u001b[43m \u001b[49m\u001b[38;5;241;43m3300.00\u001b[39;49m\u001b[43m,\u001b[49m\u001b[43m \u001b[49m\u001b[38;5;28;43;01mTrue\u001b[39;49;00m\u001b[43m,\u001b[49m\u001b[43m \u001b[49m\u001b[38;5;124;43m\"\u001b[39;49m\u001b[38;5;124;43mSibylle de Woot\u001b[39;49m\u001b[38;5;124;43m\"\u001b[39;49m\u001b[43m,\u001b[49m\u001b[43m \u001b[49m\u001b[38;5;124;43m\"\u001b[39;49m\u001b[38;5;124;43mMariana Montes\u001b[39;49m\u001b[38;5;124;43m\"\u001b[39;49m\u001b[43m,\u001b[49m\u001b[43m \u001b[49m\u001b[38;5;124;43m\"\u001b[39;49m\u001b[38;5;124;43min translation\u001b[39;49m\u001b[38;5;124;43m\"\u001b[39;49m\u001b[43m,\u001b[49m\u001b[43m \u001b[49m\u001b[38;5;124;43m\"\u001b[39;49m\u001b[38;5;124;43mtechnical\u001b[39;49m\u001b[38;5;124;43m\"\u001b[39;49m\u001b[43m)\u001b[49m\n",
      "Cell \u001b[0;32mIn[1], line 105\u001b[0m, in \u001b[0;36mProject.__init__\u001b[0;34m(self, title, client, source, target, words, start, deadline, price, tm, translator, reviewer, status, domain)\u001b[0m\n\u001b[1;32m    103\u001b[0m     \u001b[38;5;28mself\u001b[39m\u001b[38;5;241m.\u001b[39mst \u001b[38;5;241m=\u001b[39m datetime\u001b[38;5;241m.\u001b[39mdate\u001b[38;5;241m.\u001b[39mfromisoformat(start)\n\u001b[1;32m    104\u001b[0m \u001b[38;5;28;01mexcept\u001b[39;00m:\n\u001b[0;32m--> 105\u001b[0m     \u001b[38;5;28;01mraise\u001b[39;00m \u001b[38;5;167;01mTypeError\u001b[39;00m(\u001b[38;5;124m\"\u001b[39m\u001b[38;5;124mThe start date must be provided in ISO format\u001b[39m\u001b[38;5;124m\"\u001b[39m)\n\u001b[1;32m    106\u001b[0m \u001b[38;5;28;01melse\u001b[39;00m:\n\u001b[1;32m    107\u001b[0m     \u001b[38;5;28mself\u001b[39m\u001b[38;5;241m.\u001b[39mstart \u001b[38;5;241m=\u001b[39m start\n",
      "\u001b[0;31mTypeError\u001b[0m: The start date must be provided in ISO format"
     ]
    }
   ],
   "source": [
    "project4 = Project(\"Yet another title\", \"another client\", \"FR\", \"NL\", 8000, \"23-06-16\", \"23-06-28\", 3300.00, True, \"Sibylle de Woot\", \"Mariana Montes\", \"in translation\", \"technical\")"
   ]
  },
  {
   "cell_type": "markdown",
   "id": "c9c92274",
   "metadata": {},
   "source": [
    "While both dates are wrong, only the error with the start date is raised. That's because the script stops at the first detected error. However, if I only correct one and not the other, it will raise the error in the deadline:"
   ]
  },
  {
   "cell_type": "code",
   "execution_count": 17,
   "id": "6d4f884f",
   "metadata": {},
   "outputs": [
    {
     "ename": "TypeError",
     "evalue": "The deadline must be provided in ISO format",
     "output_type": "error",
     "traceback": [
      "\u001b[0;31m---------------------------------------------------------------------------\u001b[0m",
      "\u001b[0;31mValueError\u001b[0m                                Traceback (most recent call last)",
      "Cell \u001b[0;32mIn[1], line 111\u001b[0m, in \u001b[0;36mProject.__init__\u001b[0;34m(self, title, client, source, target, words, start, deadline, price, tm, translator, reviewer, status, domain)\u001b[0m\n\u001b[1;32m    110\u001b[0m \u001b[38;5;28;01mtry\u001b[39;00m:\n\u001b[0;32m--> 111\u001b[0m     \u001b[38;5;28mself\u001b[39m\u001b[38;5;241m.\u001b[39mdl \u001b[38;5;241m=\u001b[39m \u001b[43mdatetime\u001b[49m\u001b[38;5;241;43m.\u001b[39;49m\u001b[43mdate\u001b[49m\u001b[38;5;241;43m.\u001b[39;49m\u001b[43mfromisoformat\u001b[49m\u001b[43m(\u001b[49m\u001b[43mdeadline\u001b[49m\u001b[43m)\u001b[49m\n\u001b[1;32m    112\u001b[0m \u001b[38;5;28;01mexcept\u001b[39;00m:\n",
      "\u001b[0;31mValueError\u001b[0m: Invalid isoformat string: '23-06-28'",
      "\nDuring handling of the above exception, another exception occurred:\n",
      "\u001b[0;31mTypeError\u001b[0m                                 Traceback (most recent call last)",
      "Cell \u001b[0;32mIn[17], line 1\u001b[0m\n\u001b[0;32m----> 1\u001b[0m project4 \u001b[38;5;241m=\u001b[39m \u001b[43mProject\u001b[49m\u001b[43m(\u001b[49m\u001b[38;5;124;43m\"\u001b[39;49m\u001b[38;5;124;43mYet another title\u001b[39;49m\u001b[38;5;124;43m\"\u001b[39;49m\u001b[43m,\u001b[49m\u001b[43m \u001b[49m\u001b[38;5;124;43m\"\u001b[39;49m\u001b[38;5;124;43manother client\u001b[39;49m\u001b[38;5;124;43m\"\u001b[39;49m\u001b[43m,\u001b[49m\u001b[43m \u001b[49m\u001b[38;5;124;43m\"\u001b[39;49m\u001b[38;5;124;43mFR\u001b[39;49m\u001b[38;5;124;43m\"\u001b[39;49m\u001b[43m,\u001b[49m\u001b[43m \u001b[49m\u001b[38;5;124;43m\"\u001b[39;49m\u001b[38;5;124;43mNL\u001b[39;49m\u001b[38;5;124;43m\"\u001b[39;49m\u001b[43m,\u001b[49m\u001b[43m \u001b[49m\u001b[38;5;241;43m8000\u001b[39;49m\u001b[43m,\u001b[49m\u001b[43m \u001b[49m\u001b[38;5;124;43m\"\u001b[39;49m\u001b[38;5;124;43m2023-06-16\u001b[39;49m\u001b[38;5;124;43m\"\u001b[39;49m\u001b[43m,\u001b[49m\u001b[43m \u001b[49m\u001b[38;5;124;43m\"\u001b[39;49m\u001b[38;5;124;43m23-06-28\u001b[39;49m\u001b[38;5;124;43m\"\u001b[39;49m\u001b[43m,\u001b[49m\u001b[43m \u001b[49m\u001b[38;5;241;43m3300.00\u001b[39;49m\u001b[43m,\u001b[49m\u001b[43m \u001b[49m\u001b[38;5;28;43;01mTrue\u001b[39;49;00m\u001b[43m,\u001b[49m\u001b[43m \u001b[49m\u001b[38;5;124;43m\"\u001b[39;49m\u001b[38;5;124;43mSibylle de Woot\u001b[39;49m\u001b[38;5;124;43m\"\u001b[39;49m\u001b[43m,\u001b[49m\u001b[43m \u001b[49m\u001b[38;5;124;43m\"\u001b[39;49m\u001b[38;5;124;43mMariana Montes\u001b[39;49m\u001b[38;5;124;43m\"\u001b[39;49m\u001b[43m,\u001b[49m\u001b[43m \u001b[49m\u001b[38;5;124;43m\"\u001b[39;49m\u001b[38;5;124;43min translation\u001b[39;49m\u001b[38;5;124;43m\"\u001b[39;49m\u001b[43m,\u001b[49m\u001b[43m \u001b[49m\u001b[38;5;124;43m\"\u001b[39;49m\u001b[38;5;124;43mtechnical\u001b[39;49m\u001b[38;5;124;43m\"\u001b[39;49m\u001b[43m)\u001b[49m\n",
      "Cell \u001b[0;32mIn[1], line 113\u001b[0m, in \u001b[0;36mProject.__init__\u001b[0;34m(self, title, client, source, target, words, start, deadline, price, tm, translator, reviewer, status, domain)\u001b[0m\n\u001b[1;32m    111\u001b[0m     \u001b[38;5;28mself\u001b[39m\u001b[38;5;241m.\u001b[39mdl \u001b[38;5;241m=\u001b[39m datetime\u001b[38;5;241m.\u001b[39mdate\u001b[38;5;241m.\u001b[39mfromisoformat(deadline)\n\u001b[1;32m    112\u001b[0m \u001b[38;5;28;01mexcept\u001b[39;00m:\n\u001b[0;32m--> 113\u001b[0m     \u001b[38;5;28;01mraise\u001b[39;00m \u001b[38;5;167;01mTypeError\u001b[39;00m(\u001b[38;5;124m\"\u001b[39m\u001b[38;5;124mThe deadline must be provided in ISO format\u001b[39m\u001b[38;5;124m\"\u001b[39m)\n\u001b[1;32m    114\u001b[0m \u001b[38;5;28;01melse\u001b[39;00m:\n\u001b[1;32m    115\u001b[0m     \u001b[38;5;28mself\u001b[39m\u001b[38;5;241m.\u001b[39mdeadline \u001b[38;5;241m=\u001b[39m deadline\n",
      "\u001b[0;31mTypeError\u001b[0m: The deadline must be provided in ISO format"
     ]
    }
   ],
   "source": [
    "project4 = Project(\"Yet another title\", \"another client\", \"FR\", \"NL\", 8000, \"2023-06-16\", \"23-06-28\", 3300.00, True, \"Sibylle de Woot\", \"Mariana Montes\", \"in translation\", \"technical\")"
   ]
  },
  {
   "cell_type": "markdown",
   "id": "71845103",
   "metadata": {},
   "source": [
    "The way the script detects whether or not the date format is correct, is by trying to turn the string I inputted into an actual date with the datetime module. Because if that, it can also catch some errors if I provide the date in YYYY-DD-MM format, rather than YYYY-MM-DD:"
   ]
  },
  {
   "cell_type": "code",
   "execution_count": 18,
   "id": "95d045ba",
   "metadata": {},
   "outputs": [
    {
     "ename": "TypeError",
     "evalue": "The start date must be provided in ISO format",
     "output_type": "error",
     "traceback": [
      "\u001b[0;31m---------------------------------------------------------------------------\u001b[0m",
      "\u001b[0;31mValueError\u001b[0m                                Traceback (most recent call last)",
      "Cell \u001b[0;32mIn[1], line 103\u001b[0m, in \u001b[0;36mProject.__init__\u001b[0;34m(self, title, client, source, target, words, start, deadline, price, tm, translator, reviewer, status, domain)\u001b[0m\n\u001b[1;32m    102\u001b[0m \u001b[38;5;28;01mtry\u001b[39;00m:\n\u001b[0;32m--> 103\u001b[0m     \u001b[38;5;28mself\u001b[39m\u001b[38;5;241m.\u001b[39mst \u001b[38;5;241m=\u001b[39m \u001b[43mdatetime\u001b[49m\u001b[38;5;241;43m.\u001b[39;49m\u001b[43mdate\u001b[49m\u001b[38;5;241;43m.\u001b[39;49m\u001b[43mfromisoformat\u001b[49m\u001b[43m(\u001b[49m\u001b[43mstart\u001b[49m\u001b[43m)\u001b[49m\n\u001b[1;32m    104\u001b[0m \u001b[38;5;28;01mexcept\u001b[39;00m:\n",
      "\u001b[0;31mValueError\u001b[0m: month must be in 1..12",
      "\nDuring handling of the above exception, another exception occurred:\n",
      "\u001b[0;31mTypeError\u001b[0m                                 Traceback (most recent call last)",
      "Cell \u001b[0;32mIn[18], line 1\u001b[0m\n\u001b[0;32m----> 1\u001b[0m project4 \u001b[38;5;241m=\u001b[39m \u001b[43mProject\u001b[49m\u001b[43m(\u001b[49m\u001b[38;5;124;43m\"\u001b[39;49m\u001b[38;5;124;43mYet another title\u001b[39;49m\u001b[38;5;124;43m\"\u001b[39;49m\u001b[43m,\u001b[49m\u001b[43m \u001b[49m\u001b[38;5;124;43m\"\u001b[39;49m\u001b[38;5;124;43manother client\u001b[39;49m\u001b[38;5;124;43m\"\u001b[39;49m\u001b[43m,\u001b[49m\u001b[43m \u001b[49m\u001b[38;5;124;43m\"\u001b[39;49m\u001b[38;5;124;43mFR\u001b[39;49m\u001b[38;5;124;43m\"\u001b[39;49m\u001b[43m,\u001b[49m\u001b[43m \u001b[49m\u001b[38;5;124;43m\"\u001b[39;49m\u001b[38;5;124;43mNL\u001b[39;49m\u001b[38;5;124;43m\"\u001b[39;49m\u001b[43m,\u001b[49m\u001b[43m \u001b[49m\u001b[38;5;241;43m8000\u001b[39;49m\u001b[43m,\u001b[49m\u001b[43m \u001b[49m\u001b[38;5;124;43m\"\u001b[39;49m\u001b[38;5;124;43m2023-16-06\u001b[39;49m\u001b[38;5;124;43m\"\u001b[39;49m\u001b[43m,\u001b[49m\u001b[43m \u001b[49m\u001b[38;5;124;43m\"\u001b[39;49m\u001b[38;5;124;43m2023-06-28\u001b[39;49m\u001b[38;5;124;43m\"\u001b[39;49m\u001b[43m,\u001b[49m\u001b[43m \u001b[49m\u001b[38;5;241;43m3300.00\u001b[39;49m\u001b[43m,\u001b[49m\u001b[43m \u001b[49m\u001b[38;5;28;43;01mTrue\u001b[39;49;00m\u001b[43m,\u001b[49m\u001b[43m \u001b[49m\u001b[38;5;124;43m\"\u001b[39;49m\u001b[38;5;124;43mSibylle de Woot\u001b[39;49m\u001b[38;5;124;43m\"\u001b[39;49m\u001b[43m,\u001b[49m\u001b[43m \u001b[49m\u001b[38;5;124;43m\"\u001b[39;49m\u001b[38;5;124;43mMariana Montes\u001b[39;49m\u001b[38;5;124;43m\"\u001b[39;49m\u001b[43m,\u001b[49m\u001b[43m \u001b[49m\u001b[38;5;124;43m\"\u001b[39;49m\u001b[38;5;124;43min translation\u001b[39;49m\u001b[38;5;124;43m\"\u001b[39;49m\u001b[43m,\u001b[49m\u001b[43m \u001b[49m\u001b[38;5;124;43m\"\u001b[39;49m\u001b[38;5;124;43mtechnical\u001b[39;49m\u001b[38;5;124;43m\"\u001b[39;49m\u001b[43m)\u001b[49m\n",
      "Cell \u001b[0;32mIn[1], line 105\u001b[0m, in \u001b[0;36mProject.__init__\u001b[0;34m(self, title, client, source, target, words, start, deadline, price, tm, translator, reviewer, status, domain)\u001b[0m\n\u001b[1;32m    103\u001b[0m     \u001b[38;5;28mself\u001b[39m\u001b[38;5;241m.\u001b[39mst \u001b[38;5;241m=\u001b[39m datetime\u001b[38;5;241m.\u001b[39mdate\u001b[38;5;241m.\u001b[39mfromisoformat(start)\n\u001b[1;32m    104\u001b[0m \u001b[38;5;28;01mexcept\u001b[39;00m:\n\u001b[0;32m--> 105\u001b[0m     \u001b[38;5;28;01mraise\u001b[39;00m \u001b[38;5;167;01mTypeError\u001b[39;00m(\u001b[38;5;124m\"\u001b[39m\u001b[38;5;124mThe start date must be provided in ISO format\u001b[39m\u001b[38;5;124m\"\u001b[39m)\n\u001b[1;32m    106\u001b[0m \u001b[38;5;28;01melse\u001b[39;00m:\n\u001b[1;32m    107\u001b[0m     \u001b[38;5;28mself\u001b[39m\u001b[38;5;241m.\u001b[39mstart \u001b[38;5;241m=\u001b[39m start\n",
      "\u001b[0;31mTypeError\u001b[0m: The start date must be provided in ISO format"
     ]
    }
   ],
   "source": [
    "project4 = Project(\"Yet another title\", \"another client\", \"FR\", \"NL\", 8000, \"2023-16-06\", \"2023-06-28\", 3300.00, True, \"Sibylle de Woot\", \"Mariana Montes\", \"in translation\", \"technical\")"
   ]
  },
  {
   "cell_type": "markdown",
   "id": "a2ea9317",
   "metadata": {},
   "source": [
    "When trying to convert the string into a date, the script runs into a problem, as there is no sixteenth month in the year, which leads it to ask for an ISO-formatted date. This is handy, but has its limitations for dates until the twelvth of the month, in which day and month can me inverted and still yield a valid ISO-formatted date. Validation is a useful feature to weed out many mistakes, but it's no miracle solution and in the end it's up to the user to ensure that they use correct information."
   ]
  },
  {
   "cell_type": "markdown",
   "id": "0d5f6b5a",
   "metadata": {},
   "source": [
    "A last \"special\" type of validation used in the `Project` class concerns the attribute `status`. To make sure everyone is on the same page concerning project progress, only labels from the agency workflow are allowed for this attribute, namely:\n",
    "- created,\n",
    "- in translation,\n",
    "- in revision,\n",
    "- delivered,\n",
    "- delayed,\n",
    "- cancel(l)ed.\n",
    "\n",
    "If a user tries to invent their own labels, they will receive a request to use a status in the agency workflow:"
   ]
  },
  {
   "cell_type": "code",
   "execution_count": 19,
   "id": "48ee762b",
   "metadata": {},
   "outputs": [
    {
     "ename": "ValueError",
     "evalue": "Please pick a status from the workflow: created, in translation, in revision, delivered, delayed or cancelled.",
     "output_type": "error",
     "traceback": [
      "\u001b[0;31m---------------------------------------------------------------------------\u001b[0m",
      "\u001b[0;31mValueError\u001b[0m                                Traceback (most recent call last)",
      "Cell \u001b[0;32mIn[19], line 1\u001b[0m\n\u001b[0;32m----> 1\u001b[0m project4 \u001b[38;5;241m=\u001b[39m \u001b[43mProject\u001b[49m\u001b[43m(\u001b[49m\u001b[38;5;124;43m\"\u001b[39;49m\u001b[38;5;124;43mYet another title\u001b[39;49m\u001b[38;5;124;43m\"\u001b[39;49m\u001b[43m,\u001b[49m\u001b[43m \u001b[49m\u001b[38;5;124;43m\"\u001b[39;49m\u001b[38;5;124;43manother client\u001b[39;49m\u001b[38;5;124;43m\"\u001b[39;49m\u001b[43m,\u001b[49m\u001b[43m \u001b[49m\u001b[38;5;124;43m\"\u001b[39;49m\u001b[38;5;124;43mFR\u001b[39;49m\u001b[38;5;124;43m\"\u001b[39;49m\u001b[43m,\u001b[49m\u001b[43m \u001b[49m\u001b[38;5;124;43m\"\u001b[39;49m\u001b[38;5;124;43mNL\u001b[39;49m\u001b[38;5;124;43m\"\u001b[39;49m\u001b[43m,\u001b[49m\u001b[43m \u001b[49m\u001b[38;5;241;43m8000\u001b[39;49m\u001b[43m,\u001b[49m\u001b[43m \u001b[49m\u001b[38;5;124;43m\"\u001b[39;49m\u001b[38;5;124;43m2023-06-16\u001b[39;49m\u001b[38;5;124;43m\"\u001b[39;49m\u001b[43m,\u001b[49m\u001b[43m \u001b[49m\u001b[38;5;124;43m\"\u001b[39;49m\u001b[38;5;124;43m2023-06-28\u001b[39;49m\u001b[38;5;124;43m\"\u001b[39;49m\u001b[43m,\u001b[49m\u001b[43m \u001b[49m\u001b[38;5;241;43m3300.00\u001b[39;49m\u001b[43m,\u001b[49m\u001b[43m \u001b[49m\u001b[38;5;28;43;01mTrue\u001b[39;49;00m\u001b[43m,\u001b[49m\u001b[43m \u001b[49m\u001b[38;5;124;43m\"\u001b[39;49m\u001b[38;5;124;43mSibylle de Woot\u001b[39;49m\u001b[38;5;124;43m\"\u001b[39;49m\u001b[43m,\u001b[49m\u001b[43m \u001b[49m\u001b[38;5;124;43m\"\u001b[39;49m\u001b[38;5;124;43mMariana Montes\u001b[39;49m\u001b[38;5;124;43m\"\u001b[39;49m\u001b[43m,\u001b[49m\u001b[43m \u001b[49m\u001b[38;5;124;43m\"\u001b[39;49m\u001b[38;5;124;43mongoing\u001b[39;49m\u001b[38;5;124;43m\"\u001b[39;49m\u001b[43m,\u001b[49m\u001b[43m \u001b[49m\u001b[38;5;124;43m\"\u001b[39;49m\u001b[38;5;124;43mtechnical\u001b[39;49m\u001b[38;5;124;43m\"\u001b[39;49m\u001b[43m)\u001b[49m\n",
      "Cell \u001b[0;32mIn[1], line 147\u001b[0m, in \u001b[0;36mProject.__init__\u001b[0;34m(self, title, client, source, target, words, start, deadline, price, tm, translator, reviewer, status, domain)\u001b[0m\n\u001b[1;32m    139\u001b[0m     \u001b[38;5;28mself\u001b[39m\u001b[38;5;241m.\u001b[39mstatus \u001b[38;5;241m=\u001b[39m \u001b[38;5;124m\"\u001b[39m\u001b[38;5;124mcreated\u001b[39m\u001b[38;5;124m\"\u001b[39m\n\u001b[1;32m    140\u001b[0m \u001b[38;5;28;01melif\u001b[39;00m \u001b[38;5;129;01mnot\u001b[39;00m status\u001b[38;5;241m.\u001b[39mlower() \u001b[38;5;129;01min\u001b[39;00m [\u001b[38;5;124m\"\u001b[39m\u001b[38;5;124mcreated\u001b[39m\u001b[38;5;124m\"\u001b[39m,\n\u001b[1;32m    141\u001b[0m                              \u001b[38;5;124m\"\u001b[39m\u001b[38;5;124min translation\u001b[39m\u001b[38;5;124m\"\u001b[39m,\n\u001b[1;32m    142\u001b[0m                              \u001b[38;5;124m\"\u001b[39m\u001b[38;5;124min revision\u001b[39m\u001b[38;5;124m\"\u001b[39m,\n\u001b[0;32m   (...)\u001b[0m\n\u001b[1;32m    145\u001b[0m                              \u001b[38;5;124m\"\u001b[39m\u001b[38;5;124mcancelled\u001b[39m\u001b[38;5;124m\"\u001b[39m,\n\u001b[1;32m    146\u001b[0m                              \u001b[38;5;124m\"\u001b[39m\u001b[38;5;124mcanceled\u001b[39m\u001b[38;5;124m\"\u001b[39m]:\n\u001b[0;32m--> 147\u001b[0m     \u001b[38;5;28;01mraise\u001b[39;00m \u001b[38;5;167;01mValueError\u001b[39;00m(\u001b[38;5;124m\"\u001b[39m\u001b[38;5;124mPlease pick a status from the workflow: created, in translation, in revision, delivered, delayed or cancelled.\u001b[39m\u001b[38;5;124m\"\u001b[39m)\n\u001b[1;32m    148\u001b[0m \u001b[38;5;28;01melse\u001b[39;00m:\n\u001b[1;32m    149\u001b[0m     \u001b[38;5;28mself\u001b[39m\u001b[38;5;241m.\u001b[39mstatus \u001b[38;5;241m=\u001b[39m status\n",
      "\u001b[0;31mValueError\u001b[0m: Please pick a status from the workflow: created, in translation, in revision, delivered, delayed or cancelled."
     ]
    }
   ],
   "source": [
    "project4 = Project(\"Yet another title\", \"another client\", \"FR\", \"NL\", 8000, \"2023-06-16\", \"2023-06-28\", 3300.00, True, \"Sibylle de Woot\", \"Mariana Montes\", \"ongoing\", \"technical\")"
   ]
  },
  {
   "cell_type": "markdown",
   "id": "5d6d8b8d",
   "metadata": {},
   "source": [
    "A last point you may have noticed is that, while the default value when no domain is provided is an empty string, the default value for `translator` and `reviewer` is \"internal\" and even an empty string is turned into \"internal\", even though it does not appear as such in the printed text with project information (and an empty string can be turned into \"an agency collaborator\" just as easily as a string containing \"internal\"). The reason is that, if the user wants to retrieve the value of the attribute `translator`, \"internal\" is much clearer than an empty string, which looks like missing information and which requires more reflexion on the part of the user to understand that it's empty because the project was assigned to an agency collaborator."
   ]
  },
  {
   "cell_type": "code",
   "execution_count": 20,
   "id": "0351fbd6",
   "metadata": {},
   "outputs": [
    {
     "data": {
      "text/plain": [
       "'internal'"
      ]
     },
     "execution_count": 20,
     "metadata": {},
     "output_type": "execute_result"
    }
   ],
   "source": [
    "project1.translator"
   ]
  },
  {
   "cell_type": "markdown",
   "id": "f468f379",
   "metadata": {},
   "source": [
    "## Using files"
   ]
  },
  {
   "cell_type": "markdown",
   "id": "17d73d19",
   "metadata": {},
   "source": [
    "Since creating each instance of the `Project` class manually would be both cumbersome and *very* time-consuming, a way to speed up the process is to export the project information to a file and use that file to feed the information into the `Project` class. In this example, all the project information was exported as a list of dictionaries (one dictionary per project) in the json-file called `projects_db.json`. Bear in mind that, for the system to find the file, it needs to be in the folder you're running the script from (otherwise you need to use the full path to the file, but we'll not go into that here).\n",
    "\n",
    "If all you want is an overview of all the projects printed as text, you can go through the dictionaries one by one and print their information, without actually creating `Project` objects:"
   ]
  },
  {
   "cell_type": "code",
   "execution_count": 21,
   "id": "df01de23",
   "metadata": {},
   "outputs": [
    {
     "name": "stdout",
     "output_type": "stream",
     "text": [
      "La polyarthrite rhumatoïde et autres rhumatismes inflammatoires is a translation for Reuma vzw from FR into NL.\n",
      "Both the translator and the reviewer are agency collaborators.\n",
      "The domain is: healthcare.\n",
      "It's 2142 words long, with a rate of 0.33 € per word.\n",
      "It started on 2020-10-02 and was due on 2020-10-15, so 13 days were foreseen for it. To meet the deadline, 231 words needed to be translated or revised per day.\n",
      "There is no translation memory.\n",
      "The project is currently delivered.\n",
      "----\n",
      "Handboek voor studentenvertegenwoordigers is a translation for KU Leuven from NL into EN.\n",
      "The translator is sdw and the reviewer is an agency collaborator.\n",
      "The domain is: education.\n",
      "It's 7237 words long, with a rate of 0.37 € per word.\n",
      "It started on 2023-02-21 and was due on 2023-03-07, so 14 days were foreseen for it. To meet the deadline, 724 words needed to be translated or revised per day.\n",
      "There is a translation memory.\n",
      "The project is currently delayed.\n",
      "----\n",
      "User Guide MFPs is a translation for UGent from EN into NL.\n",
      "The translator is an agency collaborator and the reviewer is mm.\n",
      "The domain is unspecified.\n",
      "It's 1852 words long, with a rate of 0.4 € per word.\n",
      "It started on 2023-04-12 and was due on 2023-04-15, so 3 days were foreseen for it. To meet the deadline, 864 words needed to be translated or revised per day.\n",
      "There is a translation memory.\n",
      "The project is currently cancelled.\n",
      "----\n",
      "Guide de Bruxelles is a translation for Foodies from NL into FR.\n",
      "The translator is evdl and the reviewer is sdw.\n",
      "The domain is unspecified.\n",
      "It's 11500 words long, with a rate of 0.35 € per word.\n",
      "It started on 2023-05-06 and is due on 2023-06-30, so 55 days are foreseen for it, of which 12 left. To meet the deadline, 293 words need to be translated or revised per day.\n",
      "There is no translation memory.\n",
      "The project is currently in revision.\n",
      "----\n"
     ]
    }
   ],
   "source": [
    "import json # we'll need the json module to use the file\n",
    "# store the file's content in a variable:\n",
    "projects = 'projects_db.json' # assign filename to a string variable\n",
    "with open(projects, encoding = 'utf-8') as f:\n",
    "    # open file and use json to parse it\n",
    "    projects = json.load(f) # projects is now a list of dictionaries.   \n",
    "\n",
    "# go through each of the items in the list\n",
    "for project in projects:\n",
    "    # create a Project instance with title, client, source, target, words, start, deadline, price, tm, translator, reviewer, status and domain\n",
    "    my_project = Project(project['title'], project['client'], project['source'], project['target'], project['words'], project['start'], project['deadline'], project['price'], project['tm'], project['translator'], project['reviewer'], project['status'], project['domain'])\n",
    "    # print the project information\n",
    "    print(my_project)\n",
    "    \n",
    "    # print a separating line between translations\n",
    "    print('----')"
   ]
  },
  {
   "cell_type": "markdown",
   "id": "acd1dcc3",
   "metadata": {},
   "source": [
    "If we don't only want a printed overview of all the projects, but want to be able to retrieve information from specific attributes or use the other methods, we'll need to create objects of the `Project` class. Before we come to that, however, you might have noticed that instead of a name in Firstname Lastname format, freelancers are now referred to with abbreviations. Those are their references in the agency freelancer database and they are used to make the link between the `Project` and the `Freelancer` classes. So, let's first have a look at `Freelancer`."
   ]
  },
  {
   "cell_type": "markdown",
   "id": "35c2d175",
   "metadata": {},
   "source": [
    "# Creating and using objects of the Freelancer class"
   ]
  },
  {
   "cell_type": "markdown",
   "id": "6a1897d3",
   "metadata": {},
   "source": [
    "## Manually\n",
    "While the class contents (described in `README.md`) differ from `Projects`, the `Freelancer` class works the same way. Objects can be instantiated manually, for example:"
   ]
  },
  {
   "cell_type": "code",
   "execution_count": 22,
   "id": "a65c0362",
   "metadata": {},
   "outputs": [],
   "source": [
    "freelancer1 = Freelancer(\"Sibylle de Woot\", \"sdewoot@mail.be\", \"+32 486 12 34 56\", \"sdw\", [\"translator\", \"reviewer\"], [\"FR\", \"NL\", \"EN\", \"DE\"])"
   ]
  },
  {
   "cell_type": "markdown",
   "id": "11376c1a",
   "metadata": {},
   "source": [
    "Again, you can then print a text displaying all the information:"
   ]
  },
  {
   "cell_type": "code",
   "execution_count": 23,
   "id": "b543aedf",
   "metadata": {},
   "outputs": [
    {
     "name": "stdout",
     "output_type": "stream",
     "text": [
      "Sibylle de Woot can be contacted via e-mail (sdewoot@mail.be) or via phone (+32 486 12 34 56).\n",
      "Sibylle de Woot's reference in our database is sdw.\n",
      "Sibylle de Woot works as a translator, reviewer for FR, NL, EN, DE.\n"
     ]
    }
   ],
   "source": [
    "print(freelancer1)"
   ]
  },
  {
   "cell_type": "markdown",
   "id": "a7932f6b",
   "metadata": {},
   "source": [
    "Or retrieve specific information through the attributes:"
   ]
  },
  {
   "cell_type": "code",
   "execution_count": 24,
   "id": "7e130be3",
   "metadata": {},
   "outputs": [
    {
     "data": {
      "text/plain": [
       "'Sibylle de Woot'"
      ]
     },
     "execution_count": 24,
     "metadata": {},
     "output_type": "execute_result"
    }
   ],
   "source": [
    "freelancer1.name"
   ]
  },
  {
   "cell_type": "code",
   "execution_count": 25,
   "id": "b6851f59",
   "metadata": {},
   "outputs": [
    {
     "data": {
      "text/plain": [
       "['FR', 'NL', 'EN', 'DE']"
      ]
     },
     "execution_count": 25,
     "metadata": {},
     "output_type": "execute_result"
    }
   ],
   "source": [
    "freelancer1.language"
   ]
  },
  {
   "cell_type": "markdown",
   "id": "181931df",
   "metadata": {},
   "source": [
    "One limitation of the Freelancer class is its lack of validation. As a result, I can input virtually anything in any attribute: I could mix up information (for example exchange name and phone number), input the phone number as an integer rather than a string, not use the right format (for example not use the international version of the phone number), only give the freelancer's first name... Anything goes:"
   ]
  },
  {
   "cell_type": "code",
   "execution_count": 26,
   "id": "fb01bd9f",
   "metadata": {},
   "outputs": [],
   "source": [
    "freelancer2 = Freelancer(\"Sibylle\", 486123456, \"sdewoot@email.be\", \"sdw\", \"translator & reviewer\", \"French, Dutch, English and German\")"
   ]
  },
  {
   "cell_type": "code",
   "execution_count": 27,
   "id": "ff4f4147",
   "metadata": {},
   "outputs": [
    {
     "name": "stdout",
     "output_type": "stream",
     "text": [
      "Sibylle can be contacted via e-mail (486123456) or via phone (sdewoot@email.be).\n",
      "Sibylle's reference in our database is sdw.\n",
      "Sibylle works as a t, r, a, n, s, l, a, t, o, r,  , &,  , r, e, v, i, e, w, e, r for F, r, e, n, c, h, ,,  , D, u, t, c, h, ,,  , E, n, g, l, i, s, h,  , a, n, d,  , G, e, r, m, a, n.\n"
     ]
    }
   ],
   "source": [
    "print(freelancer2)"
   ]
  },
  {
   "cell_type": "code",
   "execution_count": 28,
   "id": "69e2ae3d",
   "metadata": {},
   "outputs": [
    {
     "data": {
      "text/plain": [
       "486123456"
      ]
     },
     "execution_count": 28,
     "metadata": {},
     "output_type": "execute_result"
    }
   ],
   "source": [
    "freelancer2.email"
   ]
  },
  {
   "cell_type": "code",
   "execution_count": 29,
   "id": "5176310c",
   "metadata": {},
   "outputs": [
    {
     "data": {
      "text/plain": [
       "'French, Dutch, English and German'"
      ]
     },
     "execution_count": 29,
     "metadata": {},
     "output_type": "execute_result"
    }
   ],
   "source": [
    "freelancer2.language"
   ]
  },
  {
   "cell_type": "markdown",
   "id": "3f3c3675",
   "metadata": {},
   "source": [
    "As you can see, the result is useless, unstructured and completely nonsensical. Hence why validation is a priority in the coming updates."
   ]
  },
  {
   "cell_type": "markdown",
   "id": "94b6a7a3",
   "metadata": {},
   "source": [
    "## Using files\n",
    "Like the `Project` class, the Freelancer class can go through a list (in this example, based on the file `freelancers_db.json`) and print each freelancer's information:"
   ]
  },
  {
   "cell_type": "code",
   "execution_count": 30,
   "id": "3e2a1e76",
   "metadata": {},
   "outputs": [
    {
     "name": "stdout",
     "output_type": "stream",
     "text": [
      "Sibylle de Woot can be contacted via e-mail (sdewoot@email.be) or via phone (+32 485 12 34 56).\n",
      "Sibylle de Woot's reference in our database is sdw.\n",
      "Sibylle de Woot works as a translator, reviewer for FR, NL, EN, DE.\n",
      "----\n",
      "Mariana Montes can be contacted via e-mail (mariana.montes@company.com) or via phone (+32 487 98 76 54).\n",
      "Mariana Montes's reference in our database is mm.\n",
      "Mariana Montes works as a reviewer for ES, EN.\n",
      "----\n",
      "Emily van der Londen can be contacted via e-mail (evdl@translation.net) or via phone (+32 486 19 28 37).\n",
      "Emily van der Londen's reference in our database is evdl.\n",
      "Emily van der Londen works as a translator for NL, EN, FR.\n",
      "----\n"
     ]
    }
   ],
   "source": [
    "freelancers = 'freelancers_db.json'\n",
    "with open(freelancers, encoding = 'utf-8') as f:\n",
    "    freelancers = json.load(f)\n",
    "\n",
    "for freelancer in freelancers:\n",
    "    my_freelancer = Freelancer(freelancer['name'], freelancer['email'], freelancer['phone'], freelancer['ref'], freelancer['task'], freelancer['language'])\n",
    "    print(my_freelancer)\n",
    "    \n",
    "    print('----')"
   ]
  },
  {
   "cell_type": "markdown",
   "id": "6ca712c1",
   "metadata": {},
   "source": [
    "But separate overviews of projects and freelancers aren't what interests us. What we're looking for, is to merge both in usable Python objects. So, let's see how that works."
   ]
  },
  {
   "cell_type": "markdown",
   "id": "19f9821c",
   "metadata": {},
   "source": [
    "# Linking the Project and Freelancer class\n",
    "For this, we need to slightly edit the `Project` class to make sure that the freelancer's name is displayed in the printed out project information, rather than the full text containing the freelancer information. We replace `{self.translator}` and `{self.reviewer}` by `{self.translator.name}` and `{self.reviewer.name}`."
   ]
  },
  {
   "cell_type": "code",
   "execution_count": 31,
   "id": "0f76b171",
   "metadata": {},
   "outputs": [],
   "source": [
    "\"\"\"This script gives a translation agency an overview of all its projects.\n",
    "\"\"\"\n",
    "\n",
    "class Project:\n",
    "\n",
    "    def __init__(\n",
    "        self,\n",
    "        title,\n",
    "        client,\n",
    "        source,\n",
    "        target,\n",
    "        words,\n",
    "        start,\n",
    "        deadline,\n",
    "        price,\n",
    "        tm,\n",
    "        translator = 'internal',\n",
    "        reviewer = 'internal',\n",
    "        status = 'created',\n",
    "        domain = ''):\n",
    "        \"\"\"Initialises an object of the Project class, a class that represents a translation project of a translation agency.\n",
    "        \n",
    "            Args:\n",
    "                title (str): Title of the project (typically the title of the source document, or the overall title the agency gave the project if there's more than one document to be translated).\n",
    "                client (str): Client who ordered the translation.\n",
    "                source (str): Language of the source document(s) (document(s) to be translated).\n",
    "                target (str): Language of the target document(s) (translation(s)).\n",
    "                words (int): Word count of the source document(s).\n",
    "                start (str): Project's start date in ISO format (YYYY-MM-DD).\n",
    "                deadline (str): Project's deadline in ISO format (YYYY-MM-DD).\n",
    "                price (float): Total price invoiced to the client (excl. VAT).\n",
    "                tm (bool): Whether a translation memory is available for this project.\n",
    "                translator (string, optional): Translator assigned to the project. Defaults to 'internal'.\n",
    "                reviewer (string, optional): Reviewer assigned to the project. Defaults to 'internal'.\n",
    "                status (string, optional): Current project status inside the agency's workflow. Defaults to 'created'.\n",
    "                domain (str, optional): Overall domain to which the project belongs. Defaults to an empty string.\n",
    "        \n",
    "            Attributes:\n",
    "                title (str): Title of the project (typically the title of the source document, or the overall title the agency gave the project if there's more than one document to be translated).\n",
    "                client (str): Client who ordered the translation.\n",
    "                source (str): Language of the source document(s) (document(s) to be translated).\n",
    "                target (str): Language of the target document(s) (translation(s)).\n",
    "                words (int): Word count of the source document(s).\n",
    "                start (str): Project's start date in ISO format (YYYY-MM-DD).\n",
    "                deadline (str): Project's deadline in ISO format (YYYY-MM-DD).\n",
    "                price (float): Total price invoiced to the client (excl. VAT).\n",
    "                tm (bool): Whether a translation memory is available for this project.\n",
    "                translator (string, optional): Translator assigned to the project.\n",
    "                reviewer (string, optional): Reviewer assigned to the project.\n",
    "                status (string, optional): Current project status inside the agency's workflow.\n",
    "                domain (str): Overall domain to which the project belongs.\n",
    "                today (date): Date of the day where the script is run.\n",
    "                st (date): Project's start date, turned from an ISO-formatted string into a date.\n",
    "                dl (date): Project's deadline, turned from an ISO-formatted string into a date.\n",
    "                daysleft (timedelta): Time left until the project's deadline.\n",
    "                length (timedelta): Total time allocated to the project.\n",
    "                rate (float): Project's word rate.\n",
    "                efficiency (float): Number of words to be translated or revised per day to meet the deadline (assuming a five-day workweek).\n",
    "            \n",
    "            Raises:\n",
    "                TypeError: If 'title' is not a string.\n",
    "                TypeError: If 'client' is not a string.\n",
    "                TypeError: If 'source' is not a string.\n",
    "                TypeError: If 'target' is not a string.\n",
    "                TypeError: If 'words' is not an integer.\n",
    "                TypeError: If 'start' is not a string.\n",
    "                ValueError: If 'start' does not follow the pattern 4 digits-2 digits-2 digits.\n",
    "                TypeError: If 'deadline' is not a string.\n",
    "                ValueError: If 'deadline' does not follow the pattern 4 digits-2 digits-2 digits.\n",
    "                TypeError: If 'price' is not a float.\n",
    "                TypeError: If 'tm' is not a boolean.\n",
    "                TypeError: If 'translator' is not a string.\n",
    "                TypeError: If 'reviewer' is not a string.\n",
    "                TypeError: If 'status' is not a string.\n",
    "                ValueError: If 'status' is not a label in the agency workflow: created, in translation, in revision, delivered, delayed, cancel(l)ed.\n",
    "                TypeError: If 'domain' is not a string.\n",
    "        \"\"\"\n",
    "        if type(title) != str:\n",
    "            raise TypeError(\"The title must be a string.\")\n",
    "        else:\n",
    "            self.title = title\n",
    "        if type(client) != str:\n",
    "            raise TypeError(\"The client name must be a string.\")\n",
    "        else:\n",
    "            self.client = client\n",
    "        if type(source) != str:\n",
    "            raise TypeError(\"The source language must be a string.\")\n",
    "        else:\n",
    "            self.source = source\n",
    "        if type(target) != str:\n",
    "            raise TypeError(\"The target langague must be a string.\")\n",
    "        else:\n",
    "            self.target = target\n",
    "        if type(words) != int:\n",
    "            raise TypeError(\"The word count must be an integer.\")\n",
    "        else:\n",
    "            self.words = words\n",
    "        if type(start) != str:\n",
    "            raise TypeError(\"The start date must be provided as a string.\")\n",
    "        try:\n",
    "            self.st = datetime.date.fromisoformat(start)\n",
    "        except:\n",
    "            raise TypeError(\"The start date must be provided in ISO format\")\n",
    "        else:\n",
    "            self.start = start\n",
    "        if type(deadline) != str:\n",
    "            raise TypeError(\"The deadline must be provided as a string.\")\n",
    "        try:\n",
    "            self.dl = datetime.date.fromisoformat(deadline)\n",
    "        except:\n",
    "            raise TypeError(\"The deadline must be provided in ISO format\")\n",
    "        else:\n",
    "            self.deadline = deadline\n",
    "        if type(price) != float:\n",
    "            raise TypeError(\"The price must be a float.\")\n",
    "        else:\n",
    "            self.price = price\n",
    "        if type(tm) != bool:\n",
    "            raise TypeError(\"The TM availability must be a boolean.\")\n",
    "        else:\n",
    "            self.tm = tm\n",
    "        if type(translator) != str and type(translator) != Freelancer:\n",
    "            raise TypeError(\"The translator's name must be a string or an entry in our freelancer database.\")\n",
    "        elif translator == '':\n",
    "            self.translator = \"internal\"\n",
    "        else:\n",
    "            self.translator = translator\n",
    "        if type(reviewer) != str and type(reviewer) != Freelancer:\n",
    "            raise TypeError(\"The reviewer's name must be a string or an entry in our freelancer database.\")\n",
    "        elif reviewer == '':\n",
    "            self.reviewer = \"internal\"\n",
    "        else:\n",
    "            self.reviewer = reviewer\n",
    "        if type(status) != str:\n",
    "            raise TypeError(\"The status must be a string.\")\n",
    "        elif status == '':\n",
    "            self.status = \"created\"\n",
    "        elif not status.lower() in [\"created\",\n",
    "                                     \"in translation\",\n",
    "                                     \"in revision\",\n",
    "                                     \"delivered\",\n",
    "                                     \"delayed\",\n",
    "                                     \"cancelled\",\n",
    "                                     \"canceled\"]:\n",
    "            raise ValueError(\"Please pick a status from the workflow: created, in translation, in revision, delivered, delayed or cancelled.\")\n",
    "        else:\n",
    "            self.status = status\n",
    "        if type(domain) != str:\n",
    "            raise TypeError(\"The domain must be a string.\")\n",
    "        else:\n",
    "            self.domain = domain\n",
    "                \n",
    "        today = datetime.date.today()\n",
    "        self.daysleft = self.dl - today\n",
    "        self.length = self.dl - self.st\n",
    "        self.rate = self.price/self.words\n",
    "        self.efficiency = words/((5/7)*self.length.days)\n",
    "\n",
    "    def days_left(self):\n",
    "        \"\"\"Displays how many days remain until the project deadline.\n",
    "        \n",
    "        Args:\n",
    "            None\n",
    "            \n",
    "        Returns:\n",
    "            str: A message informing the user that the deadline has been exceeded already if the deadline is in the past.\n",
    "            str: A message informing the user of the number of days left until the deadline if the deadline is not in the past.\n",
    "        \"\"\"\n",
    "        if self.dl < datetime.date.today():\n",
    "            return f\"The deadline has been exceeded already.\"\n",
    "        else:\n",
    "            return f\"There are {self.daysleft.days} days left until the deadline.\"\n",
    "    \n",
    "    def project_length(self):\n",
    "        \"\"\"Displays the total number of days allocated to the project.\n",
    "        \n",
    "        Args:\n",
    "            None\n",
    "        \n",
    "        Returns:\n",
    "            str: The total number of days allocated to the project.\n",
    "        \"\"\"\n",
    "        return f\"{self.length.days} days\"\n",
    "    \n",
    "    def __str__(self):\n",
    "        # defines the print behaviour: returns a text providing the main information about the project\n",
    "        sent_1 = f\"{self.title} is a translation for {self.client} from {self.source} into {self.target}.\"\n",
    "        if self.translator == \"internal\" and self.reviewer == \"internal\":\n",
    "            sent_2 = f\"Both the translator and the reviewer are agency collaborators.\"\n",
    "        elif self.translator == \"internal\" and self.reviewer != \"internal\":\n",
    "            sent_2 = f\"The translator is an agency collaborator and the reviewer is {self.reviewer.name}.\"\n",
    "        elif self.translator != \"internal\" and self.reviewer == \"internal\":\n",
    "            sent_2 = f\"The translator is {self.translator.name} and the reviewer is an agency collaborator.\"\n",
    "        else:\n",
    "            sent_2 = f\"The translator is {self.translator.name} and the reviewer is {self.reviewer.name}.\"\n",
    "        # this if-statement considers whether a domain was added\n",
    "        if len(self.domain) > 0:\n",
    "            sent_3 = f\"The domain is: {self.domain}.\"\n",
    "        else:\n",
    "            sent_3 = \"The domain is unspecified.\" # if no domain was added, the text mentions it\n",
    "        sent_4 = f\"It's {self.words} words long, with a rate of {round(self.rate, 2)} € per word.\" #the word rate is rounded to two decimal places to avoid cumbersomely long numbers\n",
    "        # this if-statement considers whether the deadline is in the past\n",
    "        if self.dl < datetime.date.today():\n",
    "            sent_5 = f\"It started on {self.st} and was due on {self.dl}, so {self.length.days} days were foreseen for it. To meet the deadline, {round(self.efficiency)} words needed to be translated or revised per day.\" # the efficiency is rounded to units because you can't translate a fraction of a word anyway\n",
    "        else:\n",
    "            sent_5 = f\"It started on {self.st} and is due on {self.dl}, so {self.length.days} days are foreseen for it, of which {self.daysleft.days} left. To meet the deadline, {round(self.efficiency)} words need to be translated or revised per day.\"\n",
    "        # this if-statement considers whether there is a translation memory for the project\n",
    "        sent_6 = f\"There is {'a' if self.tm else 'no'} translation memory.\"\n",
    "        sent_7 = f\"The project is currently {self.status}.\"\n",
    "        # print each sentence in a different line\n",
    "        return \"\\n\".join([sent_1, sent_2, sent_3, sent_4, sent_5, sent_6, sent_7])"
   ]
  },
  {
   "cell_type": "markdown",
   "id": "0b55972d",
   "metadata": {},
   "source": [
    "First, we'll retrieve the freelancers' information from the json-file and save it as a list of dictionaries. Granted, we've already done so above, but as some people may have skipped directly to this part of the tutorial, we'll do it again here."
   ]
  },
  {
   "cell_type": "code",
   "execution_count": 32,
   "id": "1674b222",
   "metadata": {},
   "outputs": [],
   "source": [
    "with open('freelancers_db.json', 'r') as f:\n",
    "    all_freelancers = {x['ref'] : x for x in json.load(f)} # the name of each dictionary is the value of the key \"ref\", so the freelancer's unique internal reference in the agency database"
   ]
  },
  {
   "cell_type": "markdown",
   "id": "b9e75768",
   "metadata": {},
   "source": [
    "Then, we also read and save the project information as a dictionary. As mentioned above, the value of the \"translator\" and \"reviewer\" key are now internal references rather than names, which we can use to check whether the value of those keys (or attributes, once we instantiates objects of the `Project` class) correspond to a dictionary in our list `all_freelancers` (i.e. an entry in our freelancer database). If it is, the value of the attribute `translator` of our `Project` instance will not be a string, but an instance of the `Freelancer` class."
   ]
  },
  {
   "cell_type": "code",
   "execution_count": 33,
   "id": "825ceadd",
   "metadata": {},
   "outputs": [],
   "source": [
    "with open('guide_bruxelles.json', 'r') as f2:\n",
    "    guide_bruxelles_dict = json.load(f2)\n",
    "    if 'translator' in guide_bruxelles_dict and guide_bruxelles_dict['translator'] in all_freelancers:\n",
    "        guide_bruxelles_dict['translator'] = Freelancer(**all_freelancers[guide_bruxelles_dict['translator']])\n",
    "    if 'reviewer' in guide_bruxelles_dict and guide_bruxelles_dict['reviewer'] in all_freelancers:\n",
    "        guide_bruxelles_dict['reviewer'] = Freelancer(**all_freelancers[guide_bruxelles_dict['reviewer']])\n",
    "    guide_bruxelles = Project(**guide_bruxelles_dict)\n",
    "\n",
    "with open('handboek.json', 'r') as f3:\n",
    "    handboek_dict = json.load(f3)\n",
    "    if 'translator' in handboek_dict and handboek_dict['translator'] in all_freelancers:\n",
    "        handboek_dict['translator'] = Freelancer(**all_freelancers[handboek_dict['translator']])\n",
    "    if 'reviewer' in handboek_dict and handboek_dict['reviewer'] in all_freelancers:\n",
    "        handboek_dict['reviewer'] = Freelancer(**all_freelancers[handboek_dict['reviewer']])\n",
    "    handboek = Project(**handboek_dict)\n",
    "\n",
    "with open('rhumatismes_inflammatoires.json', 'r') as f4:\n",
    "    rhumatismes_inflammatoires_dict = json.load(f4)\n",
    "    if 'translator' in rhumatismes_inflammatoires_dict and rhumatismes_inflammatoires_dict['translator'] in all_freelancers:\n",
    "        rhumatismes_inflammatoires_dict['translator'] = Freelancer(**all_freelancers[rhumatismes_inflammatoires_dict['translator']])\n",
    "    if 'reviewer' in rhumatismes_inflammatoires_dict and rhumatismes_inflammatoires_dict['reviewer'] in all_freelancers:\n",
    "        rhumatismes_inflammatoires_dict['reviewer'] = Freelancer(**all_freelancers[rhumatismes_inflammatoires_dict['reviewer']])\n",
    "    rhumatismes_inflammatoires = Project(**rhumatismes_inflammatoires_dict)\n",
    "\n",
    "with open('user_guide.json', 'r') as f5:\n",
    "    user_guide_dict = json.load(f5)\n",
    "    if 'translator' in user_guide_dict and user_guide_dict['translator'] in all_freelancers:\n",
    "        user_guide_dict['translator'] = Freelancer(**all_freelancers[user_guide_dict['translator']])\n",
    "    if 'reviewer' in user_guide_dict and user_guide_dict['reviewer'] in all_freelancers:\n",
    "        user_guide_dict['reviewer'] = Freelancer(**all_freelancers[user_guide_dict['reviewer']])\n",
    "    user_guide = Project(**user_guide_dict)"
   ]
  },
  {
   "cell_type": "markdown",
   "id": "0032d9e8",
   "metadata": {},
   "source": [
    "Once that is done, we can print both the project information:"
   ]
  },
  {
   "cell_type": "code",
   "execution_count": 34,
   "id": "0d75f947",
   "metadata": {},
   "outputs": [
    {
     "name": "stdout",
     "output_type": "stream",
     "text": [
      "Guide de Bruxelles is a translation for Foodies from NL into FR.\n",
      "The translator is Emily van der Londen and the reviewer is Sibylle de Woot.\n",
      "The domain is unspecified.\n",
      "It's 11500 words long, with a rate of 0.35 € per word.\n",
      "It started on 2023-05-06 and is due on 2023-06-30, so 55 days are foreseen for it, of which 12 left. To meet the deadline, 293 words need to be translated or revised per day.\n",
      "There is no translation memory.\n",
      "The project is currently in revision.\n",
      "----\n",
      "Handboek voor studentenvertegenwoordigers is a translation for KU Leuven from NL into EN.\n",
      "The translator is Sibylle de Woot and the reviewer is an agency collaborator.\n",
      "The domain is: education.\n",
      "It's 7237 words long, with a rate of 0.37 € per word.\n",
      "It started on 2023-02-21 and was due on 2023-03-07, so 14 days were foreseen for it. To meet the deadline, 724 words needed to be translated or revised per day.\n",
      "There is a translation memory.\n",
      "The project is currently delayed.\n",
      "----\n",
      "La polyarthrite rhumatoïde et autres rhumatismes inflammatoires is a translation for Reuma vzw from FR into NL.\n",
      "Both the translator and the reviewer are agency collaborators.\n",
      "The domain is: healthcare.\n",
      "It's 2142 words long, with a rate of 0.33 € per word.\n",
      "It started on 2020-10-02 and was due on 2020-10-15, so 13 days were foreseen for it. To meet the deadline, 231 words needed to be translated or revised per day.\n",
      "There is no translation memory.\n",
      "The project is currently delivered.\n",
      "----\n",
      "User Guide MFPs is a translation for UGent from EN into NL.\n",
      "The translator is an agency collaborator and the reviewer is Mariana Montes.\n",
      "The domain is unspecified.\n",
      "It's 1852 words long, with a rate of 0.4 € per word.\n",
      "It started on 2023-04-12 and was due on 2023-04-15, so 3 days were foreseen for it. To meet the deadline, 864 words needed to be translated or revised per day.\n",
      "There is a translation memory.\n",
      "The project is currently cancelled.\n"
     ]
    }
   ],
   "source": [
    "print(guide_bruxelles)\n",
    "print('----')\n",
    "print(handboek)\n",
    "print('----')\n",
    "print(rhumatismes_inflammatoires)\n",
    "print('----')\n",
    "print (user_guide)"
   ]
  },
  {
   "cell_type": "markdown",
   "id": "0d354535",
   "metadata": {},
   "source": [
    "The freelancer information can then be printed separately by asking to print the value of the `translator`/`reviewer` attribute."
   ]
  },
  {
   "cell_type": "code",
   "execution_count": 35,
   "id": "0250fbb3",
   "metadata": {},
   "outputs": [
    {
     "name": "stdout",
     "output_type": "stream",
     "text": [
      "Emily van der Londen can be contacted via e-mail (evdl@translation.net) or via phone (+32 486 19 28 37).\n",
      "Emily van der Londen's reference in our database is evdl.\n",
      "Emily van der Londen works as a translator for NL, EN, FR.\n"
     ]
    }
   ],
   "source": [
    "print(guide_bruxelles.translator)"
   ]
  },
  {
   "cell_type": "markdown",
   "id": "14e0c7c7",
   "metadata": {},
   "source": [
    "The value of other `Project` attributes can be retrieved the usual way:"
   ]
  },
  {
   "cell_type": "code",
   "execution_count": 36,
   "id": "b0c41e69",
   "metadata": {},
   "outputs": [
    {
     "data": {
      "text/plain": [
       "'Guide de Bruxelles'"
      ]
     },
     "execution_count": 36,
     "metadata": {},
     "output_type": "execute_result"
    }
   ],
   "source": [
    "guide_bruxelles.title"
   ]
  },
  {
   "cell_type": "code",
   "execution_count": 37,
   "id": "07036a48",
   "metadata": {},
   "outputs": [
    {
     "data": {
      "text/plain": [
       "292.72727272727275"
      ]
     },
     "execution_count": 37,
     "metadata": {},
     "output_type": "execute_result"
    }
   ],
   "source": [
    "guide_bruxelles.efficiency"
   ]
  },
  {
   "cell_type": "code",
   "execution_count": 38,
   "id": "de05a880",
   "metadata": {},
   "outputs": [
    {
     "data": {
      "text/plain": [
       "'55 days'"
      ]
     },
     "execution_count": 38,
     "metadata": {},
     "output_type": "execute_result"
    }
   ],
   "source": [
    "Project.project_length(guide_bruxelles)"
   ]
  },
  {
   "cell_type": "markdown",
   "id": "d822691f",
   "metadata": {},
   "source": [
    "And the freelancers' information can also be retrieved through the `Project` instance:"
   ]
  },
  {
   "cell_type": "code",
   "execution_count": 39,
   "id": "f8cab93d",
   "metadata": {},
   "outputs": [
    {
     "data": {
      "text/plain": [
       "'Emily van der Londen'"
      ]
     },
     "execution_count": 39,
     "metadata": {},
     "output_type": "execute_result"
    }
   ],
   "source": [
    "guide_bruxelles.translator.name"
   ]
  },
  {
   "cell_type": "code",
   "execution_count": 40,
   "id": "cecba6bb",
   "metadata": {},
   "outputs": [
    {
     "data": {
      "text/plain": [
       "'sdewoot@email.be'"
      ]
     },
     "execution_count": 40,
     "metadata": {},
     "output_type": "execute_result"
    }
   ],
   "source": [
    "guide_bruxelles.reviewer.email"
   ]
  },
  {
   "cell_type": "code",
   "execution_count": 41,
   "id": "de2c768a",
   "metadata": {},
   "outputs": [
    {
     "data": {
      "text/plain": [
       "['translator']"
      ]
     },
     "execution_count": 41,
     "metadata": {},
     "output_type": "execute_result"
    }
   ],
   "source": [
    "guide_bruxelles.translator.task"
   ]
  },
  {
   "cell_type": "markdown",
   "id": "3d69f7cd",
   "metadata": {},
   "source": [
    "# Conclusion\n",
    "Hopefully, this script will make project management easier for many translation agencies. Of course, this is only version 1.0 and many updates, improvements and extra features are foreseen in the near to medium future, as you can see in the last section of `README.md`."
   ]
  }
 ],
 "metadata": {
  "kernelspec": {
   "display_name": "Python 3 (ipykernel)",
   "language": "python",
   "name": "python3"
  },
  "language_info": {
   "codemirror_mode": {
    "name": "ipython",
    "version": 3
   },
   "file_extension": ".py",
   "mimetype": "text/x-python",
   "name": "python",
   "nbconvert_exporter": "python",
   "pygments_lexer": "ipython3",
   "version": "3.9.16"
  }
 },
 "nbformat": 4,
 "nbformat_minor": 5
}
