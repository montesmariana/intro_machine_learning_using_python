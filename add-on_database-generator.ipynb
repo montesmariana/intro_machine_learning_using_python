{
 "cells": [
  {
   "cell_type": "markdown",
   "id": "e3769b22",
   "metadata": {},
   "source": [
    "# Introduction\n",
    "This script is an add-on to the project management tool. Most translation agencies already have their own databases (or apps) and would therefore not need an extra script to generate/export them. However, for agencies which do not yet have a handy way to record their freelancer and project information in a structured way and/or export it to a usable file format, here is a script to list the freelancer and project information as dictionaries exported to json-files."
   ]
  },
  {
   "cell_type": "markdown",
   "id": "7b4bbba8",
   "metadata": {},
   "source": [
    "# Freelancers\n",
    "The entire freelancers database will be exported as a single file containing a list of dictionaries."
   ]
  },
  {
   "cell_type": "markdown",
   "id": "efe751b4",
   "metadata": {},
   "source": [
    "## Creating a list of dictionaries\n",
    "The information of each freelancer is recorded in a single dictionary. Said information comprises:\n",
    "- the freelancer's full `name` (in First name Last name format), a string,\n",
    "- the freelancer's `email` address, a string,\n",
    "- the freelancer's `phone`number, a string,\n",
    "- the freelancer's `reference`, which is their unique identifier in the agency's database (this reference is also the name of the dictionary with that freelancer's information), a string,\n",
    "- the freelancer's `task(s)`, so whether they are a translator and/or a reviewer, a set,\n",
    "- the freelancer's `languages`, a set."
   ]
  },
  {
   "cell_type": "code",
   "execution_count": 1,
   "id": "c90216bc",
   "metadata": {},
   "outputs": [],
   "source": [
    "sdw = {\n",
    "    'name' : 'Sibylle de Woot',\n",
    "    'email' : 'sdewoot@email.be',\n",
    "    'phone' : '+32 485 12 34 56',\n",
    "    'ref' : 'sdw',\n",
    "    'task' : [\n",
    "        'translator',\n",
    "        'reviewer'\n",
    "    ],\n",
    "    'language' : [\n",
    "        'FR',\n",
    "        'NL',\n",
    "        'EN',\n",
    "        'DE'\n",
    "    ]\n",
    "}\n",
    "mm = {\n",
    "    'name' : 'Mariana Montes',\n",
    "    'email' : 'mariana.montes@company.com',\n",
    "    'phone' : '+32 487 98 76 54',\n",
    "    'ref' : 'mm',\n",
    "    'task' : [\n",
    "        'reviewer'\n",
    "    ],\n",
    "    'language' : [\n",
    "        'ES',\n",
    "        'EN'\n",
    "    ]\n",
    "}\n",
    "evdl = {\n",
    "    'name' : 'Emily van der Londen',\n",
    "    'email' : 'evdl@translation.net',\n",
    "    'phone' : '+32 486 19 28 37',\n",
    "    'ref' : 'evdl',\n",
    "    'task' : [\n",
    "        'translator'\n",
    "    ],\n",
    "    'language' : [\n",
    "        'NL',\n",
    "        'EN',\n",
    "        'FR'\n",
    "    ]\n",
    "}"
   ]
  },
  {
   "cell_type": "markdown",
   "id": "af21cd42",
   "metadata": {},
   "source": [
    "The dictionaries are then assembled together into a list:"
   ]
  },
  {
   "cell_type": "code",
   "execution_count": 2,
   "id": "2bdb15d0",
   "metadata": {},
   "outputs": [],
   "source": [
    "freelancers = [sdw, mm, evdl]"
   ]
  },
  {
   "cell_type": "markdown",
   "id": "db81bdc2",
   "metadata": {},
   "source": [
    "## Creating the file\n",
    "This list is then dumped into (= exported as) a json-file called `freelancers_db.json`:"
   ]
  },
  {
   "cell_type": "code",
   "execution_count": 3,
   "id": "eab0e236",
   "metadata": {},
   "outputs": [],
   "source": [
    "import json # to generate a json-file, the json-module is necessary\n",
    "with open('freelancers_db.json', 'w', encoding='utf-8') as f:\n",
    "    json.dump(freelancers, f)"
   ]
  },
  {
   "cell_type": "markdown",
   "id": "74525c2f",
   "metadata": {},
   "source": [
    "# Projects\n",
    "Unlike the freelancers' information, each project's information will also be exported into a separate file (as we need one file per project for the project management tool to work, see main script)."
   ]
  },
  {
   "cell_type": "markdown",
   "id": "34707a69",
   "metadata": {},
   "source": [
    "## Creating the dictionaries\n",
    "The method is the same as for the freelancer database, only the information is obviously different:\n",
    "- `title` (a string, ) indicates the project's title (typically the title of the source document, or the overall title the translator gave the project if there's more than one document to be translated);\n",
    "- `client` (a string) indicates the client who ordered the translation;\n",
    "- `source` (a string) indicates the language of the source document (document to be translated);\n",
    "- `target` (a string) indicates the language of the target document (translation);\n",
    "- `words` (an integer) indicates the word count of the source document;\n",
    "- `start` (a string) indicates the project's start date in ISO format (YYYY-MM-DD);\n",
    "- `deadline` (a string) indicates the project's deadline in ISO format (YYYY-MM-DD);\n",
    "- `price` (a float) indicates the total price invoiced to the client (excl. VAT);\n",
    "- `tm` (a boolean) indicates whether or not a translation memory is available for this project;\n",
    "- `translator`(a string, optional, defaults to \"internal\") gives the internal reference of the freelance translator assigned to the project, or remains empty if the project was assigned to an internal translator;\n",
    "- `reviewer`(a string, optional, defaults to \"internal\") gives the internal reference of the freelance reviewer assigned to the project, or remains empty if the project was assigned to an internal reviewer;\n",
    "- `status`(a string, optional, defaults to \"created\") indicated the project status in the agency workflow, choosing from \"created\", \"in translation\", \"in revision\", \"delivered\", \"delayed\", or \"cancel(l)ed\";\n",
    "- `domain` (a string, optional, defaults to empty string) indicates the overall domain to which the project belongs."
   ]
  },
  {
   "cell_type": "code",
   "execution_count": 4,
   "id": "2b030111",
   "metadata": {},
   "outputs": [],
   "source": [
    "rhumatismes_inflammatoires = {\n",
    "    'title' : 'La polyarthrite rhumatoïde et autres rhumatismes inflammatoires',\n",
    "    'client' : 'Reuma vzw',\n",
    "    'source' : 'FR',\n",
    "    'target' : 'NL',\n",
    "    'words' : 2142,\n",
    "    'start' : '2020-10-02',\n",
    "    'deadline' : '2020-10-15',\n",
    "    'price' : 715.00,\n",
    "    'tm' : False,\n",
    "    'translator' : '',\n",
    "    'reviewer' : '',\n",
    "    'status' : 'delivered',\n",
    "    'domain' : 'healthcare'\n",
    "}\n",
    "handboek = {\n",
    "    'title' : 'Handboek voor studentenvertegenwoordigers',\n",
    "    'client' : 'KU Leuven',\n",
    "    'source' : 'NL',\n",
    "    'target' : 'EN',\n",
    "    'words' : 7237,\n",
    "    'start' : '2023-02-21',\n",
    "    'deadline' : '2023-03-07',\n",
    "    'price' : 2680.00,\n",
    "    'tm' : True,\n",
    "    'translator' : 'sdw',\n",
    "    'reviewer' : '',\n",
    "    'status' : 'delayed',    \n",
    "    'domain' : 'education'\n",
    "}\n",
    "user_guide = {\n",
    "    'title' : 'User Guide MFPs',\n",
    "    'client' : 'UGent',\n",
    "    'source' : 'EN',\n",
    "    'target' : 'NL',\n",
    "    'words' : 1852,\n",
    "    'start' : '2023-04-12',\n",
    "    'deadline' : '2023-04-15',\n",
    "    'price' : 740.00,\n",
    "    'tm' : True,\n",
    "    'translator' : '',\n",
    "    'reviewer' : 'mm',\n",
    "    'status' : 'cancelled',\n",
    "    'domain' : ''\n",
    "}\n",
    "guide_bruxelles = {\n",
    "    'title' : 'Guide de Bruxelles',\n",
    "    'client' : 'Foodies',\n",
    "    'source' : 'NL',\n",
    "    'target' : 'FR',\n",
    "    'words' : 11500,\n",
    "    'start' : '2023-05-06',\n",
    "    'deadline' : '2023-06-30',\n",
    "    'price' : 4025.00,\n",
    "    'tm' : False,\n",
    "    'translator' : 'evdl',\n",
    "    'reviewer' : 'sdw',\n",
    "    'status' : 'in revision',    \n",
    "    'domain' : ''\n",
    "}"
   ]
  },
  {
   "cell_type": "code",
   "execution_count": 5,
   "id": "d6460ed3",
   "metadata": {},
   "outputs": [],
   "source": [
    "projects = [rhumatismes_inflammatoires, handboek, user_guide, guide_bruxelles]"
   ]
  },
  {
   "cell_type": "markdown",
   "id": "92084ac1",
   "metadata": {},
   "source": [
    "## Creating the files\n",
    "Unlike the freelancers database, each project is also exported separately into one json-file:"
   ]
  },
  {
   "cell_type": "code",
   "execution_count": 6,
   "id": "e9ff8b20",
   "metadata": {},
   "outputs": [],
   "source": [
    "with open('projects_db.json', 'w', encoding='utf-8') as f:\n",
    "    json.dump(projects, f)\n",
    "\n",
    "with open('rhumatismes_inflammatoires.json', 'w', encoding='utf-8') as f:\n",
    "    json.dump(rhumatismes_inflammatoires, f)\n",
    "with open('handboek.json', 'w', encoding='utf-8') as f:\n",
    "    json.dump(handboek, f)\n",
    "with open('user_guide.json', 'w', encoding='utf-8') as f:\n",
    "    json.dump(user_guide, f)\n",
    "with open('guide_bruxelles.json', 'w', encoding='utf-8') as f:\n",
    "    json.dump(guide_bruxelles, f)"
   ]
  }
 ],
 "metadata": {
  "kernelspec": {
   "display_name": "Python 3 (ipykernel)",
   "language": "python",
   "name": "python3"
  },
  "language_info": {
   "codemirror_mode": {
    "name": "ipython",
    "version": 3
   },
   "file_extension": ".py",
   "mimetype": "text/x-python",
   "name": "python",
   "nbconvert_exporter": "python",
   "pygments_lexer": "ipython3",
   "version": "3.9.16"
  }
 },
 "nbformat": 4,
 "nbformat_minor": 5
}
