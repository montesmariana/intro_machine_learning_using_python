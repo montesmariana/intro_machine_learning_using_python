{
 "cells": [
  {
   "cell_type": "markdown",
   "id": "b251afbe",
   "metadata": {},
   "source": [
    "# Tutorial: how to use `vendor_data.py`\n",
    "\n",
    "## Using `vendor_data.py` as a module\n",
    "\n",
    "This interactive notebook shows how to use the class and the different functions in the script `vendor_data.py`.\n",
    "\n",
    "To use the script in this code, we can import the script as a module or run it directly.\n",
    "We'll begin with importing the code as module:"
   ]
  },
  {
   "cell_type": "code",
   "execution_count": null,
   "id": "b3611132",
   "metadata": {},
   "outputs": [],
   "source": [
    "import sys\n",
    "sys.path.append (r'C:\\Users\\geera\\OneDrive\\Documenten\\School\\PostgraduaatTranslationTechnology\\IntroductionToPython\\Final_Assignment1')\n",
    "import vendor_data as vd # 'as vd' is not necessary but makes it shorter."
   ]
  },
  {
   "cell_type": "markdown",
   "id": "b9df49cf",
   "metadata": {},
   "source": [
    "### Instantiating an instance of `VendorData`\n",
    "We'll start with instantiating some instances of the class VendorData.\n",
    "The class takes four positional arguments: `ProjectName`, `SourceLang`, `TargetLang` and `VendorName`.\n",
    "It also takes four optional arguments: `VendorMail`, `WordRate`, `CatTool`, and `Preferred`."
   ]
  },
  {
   "cell_type": "code",
   "execution_count": null,
   "id": "4ab17746",
   "metadata": {},
   "outputs": [],
   "source": [
    "VendorNL = vd.VendorData(\"Tutorial\", \"English\", \"Dutch\", \"Elmo Geeraerts\") #An instance with only the positional arguments provided\n",
    "VendorFR = vd.VendorData(\"Tutorial\", \"English\", \"French\", \"Jean Lefèvre\", \"j.lefevre@hotmail.com\", 0.10, \"Trados Studio\", True) #An instance with all the arguments provided\n",
    "VendorES = vd.VendorData(\"Tutorial\", \"English\", \"Spanish\", \"Emilio De La Banda\", WordRate = 0.09, Preferred = False) #An instance with some of the optional arguments"
   ]
  },
  {
   "cell_type": "markdown",
   "id": "4c856f67",
   "metadata": {},
   "source": [
    "We can check the values of the arguments for the three vendors as follows:"
   ]
  },
  {
   "cell_type": "code",
   "execution_count": null,
   "id": "c6675ef0",
   "metadata": {},
   "outputs": [],
   "source": [
    "VendorNL.VendorName"
   ]
  },
  {
   "cell_type": "code",
   "execution_count": null,
   "id": "23b52971",
   "metadata": {},
   "outputs": [],
   "source": [
    "VendorFR.VendorMail"
   ]
  },
  {
   "cell_type": "code",
   "execution_count": null,
   "id": "69659b86",
   "metadata": {},
   "outputs": [],
   "source": [
    "VendorES.WordRate"
   ]
  },
  {
   "cell_type": "markdown",
   "id": "a831785f",
   "metadata": {},
   "source": [
    "Some arguments have default values or empty values. When we check the e-mail for VendorNL, for which we didn't provide one, we'll see that it does not return anything:"
   ]
  },
  {
   "cell_type": "code",
   "execution_count": null,
   "id": "cb2ca64c",
   "metadata": {},
   "outputs": [],
   "source": [
    "VendorNL.VendorMail"
   ]
  },
  {
   "cell_type": "markdown",
   "id": "5254d93d",
   "metadata": {},
   "source": [
    "When we check the CAT tool for the Spanish vendor, we'll get \"XTM\". We did not provide any argument, but in the class it is set to default since that is the main CAT tool used in the particular agency. This can be changed in the actual code."
   ]
  },
  {
   "cell_type": "code",
   "execution_count": null,
   "id": "c7180a19",
   "metadata": {},
   "outputs": [],
   "source": [
    "VendorES.CatTool"
   ]
  },
  {
   "cell_type": "markdown",
   "id": "fc86e138",
   "metadata": {},
   "source": [
    "The value for the argument Preferred can be True, False or None. This has an influence of the vendor's status.\n",
    "If Preferred is True, the vendor gets the status Preferred. If it is False, the vendor gets the status Back-up. If it is None, the vendor gets the status Potential."
   ]
  },
  {
   "cell_type": "code",
   "execution_count": null,
   "id": "e26d1539",
   "metadata": {},
   "outputs": [],
   "source": [
    "VendorFR.Preferred"
   ]
  },
  {
   "cell_type": "code",
   "execution_count": null,
   "id": "935c0a38",
   "metadata": {},
   "outputs": [],
   "source": [
    "VendorFR.Status"
   ]
  },
  {
   "cell_type": "code",
   "execution_count": null,
   "id": "9ebc7f07",
   "metadata": {},
   "outputs": [],
   "source": [
    "VendorES.Preferred"
   ]
  },
  {
   "cell_type": "code",
   "execution_count": null,
   "id": "1158b1de",
   "metadata": {},
   "outputs": [],
   "source": [
    "VendorES.Status"
   ]
  },
  {
   "cell_type": "code",
   "execution_count": null,
   "id": "ab5e5f54",
   "metadata": {},
   "outputs": [],
   "source": [
    "VendorNL.Preferred #Will not return anything since value is None"
   ]
  },
  {
   "cell_type": "code",
   "execution_count": null,
   "id": "50cd8967",
   "metadata": {},
   "outputs": [],
   "source": [
    "VendorNL.Status"
   ]
  },
  {
   "cell_type": "markdown",
   "id": "47936f2c",
   "metadata": {},
   "source": [
    "### Methods\n",
    "The class also contains a couple of methods:\n",
    "- `SetVendorMail` to set an e-mail address for a specific vendor\n",
    "- `SetWordRate` to add a word rate in EUR/word for a specific vendor\n",
    "- `ChangeTool` to change the preferred CAT tool\n",
    "- `SetStatus` to change the vendor's status\n",
    "- `ToExcel` to write the data to an excel file\n",
    "- `ReadExcel` to print the data in the excel file to a dictionary, if the excel file exists\n",
    "- `ModExcel` to modify certain values for a vendor in the excel file, if the excel file exists\n",
    "\n",
    "We did not provide an e-mail for the Spanish vendor so we'll start with that:"
   ]
  },
  {
   "cell_type": "code",
   "execution_count": null,
   "id": "90cb5c10",
   "metadata": {},
   "outputs": [],
   "source": [
    "VendorES.SetVendorMail(\"e.dlbanda@outlook.com\")\n",
    "VendorES.VendorMail"
   ]
  },
  {
   "cell_type": "markdown",
   "id": "f9d73186",
   "metadata": {},
   "source": [
    "We did not set a word rate for the Dutch vendor, so now we can add one:"
   ]
  },
  {
   "cell_type": "code",
   "execution_count": null,
   "id": "730b35ca",
   "metadata": {},
   "outputs": [],
   "source": [
    "VendorNL.SetWordRate(0.08)\n",
    "VendorNL.WordRate"
   ]
  },
  {
   "cell_type": "markdown",
   "id": "006d6aa9",
   "metadata": {},
   "source": [
    "Say, we did not yet know which CAT Tool the Spanish Vendor was going to use, but now we know that they will use Trados Studio. First it was set to 'XTM', we can change this as follows:"
   ]
  },
  {
   "cell_type": "code",
   "execution_count": null,
   "id": "391e7c5d",
   "metadata": {},
   "outputs": [],
   "source": [
    "VendorES.ChangeTool(\"Trados Studio\")\n",
    "VendorES.CatTool"
   ]
  },
  {
   "cell_type": "markdown",
   "id": "574ef338",
   "metadata": {},
   "source": [
    "Because we sat the value for preferred to True for the French vendor, they got the status \"Preferred\". If for some reason this changes, we can change the status easily, by changing the value for Preferred to False or None:"
   ]
  },
  {
   "cell_type": "code",
   "execution_count": null,
   "id": "96819356",
   "metadata": {},
   "outputs": [],
   "source": [
    "VendorFR.SetStatus(False)\n",
    "VendorFR.Preferred"
   ]
  },
  {
   "cell_type": "code",
   "execution_count": null,
   "id": "e8335217",
   "metadata": {},
   "outputs": [],
   "source": [
    "VendorFR.Status"
   ]
  },
  {
   "cell_type": "markdown",
   "id": "0bf8e1d0",
   "metadata": {},
   "source": [
    "We can now write the data for the vendors to an excel file.  To be sure the file does not already exist, we'll first delete the excel file for the project called `Tutorial` in the source language `English`."
   ]
  },
  {
   "cell_type": "code",
   "execution_count": null,
   "id": "ca4a9c99",
   "metadata": {},
   "outputs": [],
   "source": [
    "import os\n",
    "os.remove('Tutorial_English.xlsx') #If the file is stored elsewhere, copy the full path to the excel file."
   ]
  },
  {
   "cell_type": "markdown",
   "id": "813e7f50",
   "metadata": {},
   "source": [
    "Since every vendor has the same value for the argument `ProjectName` and `SourceLang`, they will be written to the same excel file.\n",
    "<div class=\"alert alert-danger\">\n",
    "If you run `.toExcel()` multiple times on the same vendor, it will generate multiple entries!\n",
    "</div>"
   ]
  },
  {
   "cell_type": "code",
   "execution_count": null,
   "id": "aeafcb32",
   "metadata": {},
   "outputs": [],
   "source": [
    "VendorNL.ToExcel()\n",
    "VendorFR.ToExcel()\n",
    "VendorES.ToExcel()"
   ]
  },
  {
   "cell_type": "markdown",
   "id": "8ec6866a",
   "metadata": {},
   "source": [
    "An excel file named `Tutorial_English.xlsx` should appear in the same folder where you stored this tutorial notebook.\n",
    "We can now read the entire excel file by calling the method ReadExcel for any vendor in the excel file. We'll get the information for every vendor in the excel file, no matter what vendor we pick:"
   ]
  },
  {
   "cell_type": "code",
   "execution_count": null,
   "id": "37124f32",
   "metadata": {},
   "outputs": [],
   "source": [
    "VendorNL.ReadExcel()"
   ]
  },
  {
   "cell_type": "markdown",
   "id": "ac3269a9",
   "metadata": {},
   "source": [
    "If we create another vendor that works on a different project or translates from another source language and call the same method without writing it to an excel file, we'll get an error message saying that a file for the project in the given source language does not exist."
   ]
  },
  {
   "cell_type": "code",
   "execution_count": null,
   "id": "10dc02d2",
   "metadata": {},
   "outputs": [],
   "source": [
    "VendorBG = vd.VendorData(\"Tutorial\", \"German\", \"Bulgarian\", \"Bulgarian Jacob\")\n",
    "VendorBG.ReadExcel()"
   ]
  },
  {
   "cell_type": "markdown",
   "id": "e0592b3d",
   "metadata": {},
   "source": [
    "We can also modify the excel file by running the `ModExcel` method. You could call this method for any instance you created and modify any vendor in the excel file. However this is not advisable since it will modify the correct vendor, but if you check the values by calling the argument (self.argument), the script thinks it is the vendor that you called the method for that is modified.\n",
    "\n",
    "<div class=\"alert alert-danger\">\n",
    "Run the `ModExcel()` method for the vendor you actually want to modify. It is possible to modify another vendor, but the script will still think you modified the vendor you called the method.\n",
    "</div>\n",
    "\n",
    "This method takes 3 arguments:\n",
    "1. The `Key` which represents the arguments you can change the values for. You can check the modifiable keys by running vd.VendorData.Keys\n",
    "2. The `Index`: if you have run the ReadExcel() function, you have noticed that before every value for a key in the dictionrary there's a number. By picking a number, you can change the value for that index.\n",
    "3. The `NewValue`, the new value for the index in a key.\n",
    "\n",
    "First we'll run `vd.VendorData.Keys` to see the modifiable keys:"
   ]
  },
  {
   "cell_type": "code",
   "execution_count": null,
   "id": "17292d31",
   "metadata": {},
   "outputs": [],
   "source": [
    "vd.VendorData.Keys"
   ]
  },
  {
   "cell_type": "markdown",
   "id": "52d39227",
   "metadata": {},
   "source": [
    "Now we'll again read the excel file for the project \"Tutorial\" with source language \"English\". Again, it does not matter which vendor you do this for:"
   ]
  },
  {
   "cell_type": "code",
   "execution_count": null,
   "id": "abf2dc40",
   "metadata": {},
   "outputs": [],
   "source": [
    "VendorNL.ReadExcel()"
   ]
  },
  {
   "cell_type": "markdown",
   "id": "1ecca948",
   "metadata": {},
   "source": [
    "Now we can choose for which index in which key we want to change the value for. We can for example change the CAT Tool the Spanish vendor will use like this:"
   ]
  },
  {
   "cell_type": "code",
   "execution_count": null,
   "id": "52e91ff2",
   "metadata": {},
   "outputs": [],
   "source": [
    "VendorES.ModExcel(\"CAT Tool\", 2, \"MemoQ\")"
   ]
  },
  {
   "cell_type": "markdown",
   "id": "cfec5fae",
   "metadata": {},
   "source": [
    "If you check this by running `.CatTool`, the value will be changed."
   ]
  },
  {
   "cell_type": "code",
   "execution_count": null,
   "id": "f4e539d4",
   "metadata": {},
   "outputs": [],
   "source": [
    "VendorES.CatTool"
   ]
  },
  {
   "cell_type": "markdown",
   "id": "6539e2b4",
   "metadata": {},
   "source": [
    "As already mentioned, you could call the `ModExcel()` method for any vendor and modify another one, but the script will still think you modified the vendor you called the method for. This is bad practice and you should not do this! We'll illustrate what would happen if you did:"
   ]
  },
  {
   "cell_type": "code",
   "execution_count": null,
   "id": "055d1046",
   "metadata": {},
   "outputs": [],
   "source": [
    "VendorNL.ModExcel(\"Status\", 2, \"Preferred\")"
   ]
  },
  {
   "cell_type": "markdown",
   "id": "0eae995b",
   "metadata": {},
   "source": [
    "We'll see that the status for the Spanish vendor is not changed:"
   ]
  },
  {
   "cell_type": "code",
   "execution_count": null,
   "id": "95ddcda9",
   "metadata": {},
   "outputs": [],
   "source": [
    "VendorES.Status"
   ]
  },
  {
   "cell_type": "markdown",
   "id": "92fbdd31",
   "metadata": {},
   "source": [
    "But the status for the Dutch one is:"
   ]
  },
  {
   "cell_type": "code",
   "execution_count": null,
   "id": "7c7d3af1",
   "metadata": {},
   "outputs": [],
   "source": [
    "VendorNL.Status"
   ]
  },
  {
   "cell_type": "markdown",
   "id": "83fd2f6e",
   "metadata": {},
   "source": [
    "However, if we read the excel (`ReadExcel()`), we'll see that it is in fact the Spanish vendor's status that is changed. Here it does not matter for which vendor we call the method:"
   ]
  },
  {
   "cell_type": "code",
   "execution_count": null,
   "id": "256e78dd",
   "metadata": {},
   "outputs": [],
   "source": [
    "VendorNL.ReadExcel()"
   ]
  },
  {
   "cell_type": "markdown",
   "id": "c6e675e6",
   "metadata": {},
   "source": [
    "### Validation\n",
    "\n",
    "This script also uses some functions to validate the user input anytime when user interaction is necessary.\n",
    "That is:\n",
    "- upon instantiating an instance of VendorData\n",
    "- upon changing a value using one of the functions illustrated above\n",
    "- upon modifying the excel file\n",
    "\n",
    "The examples below illustrate what happens when wrong user input is provided. We'll start with the simple TypeErrors.\n",
    "TypeErrors are raised when:\n",
    "- `ProjectName` is not a string\n",
    "- `SourceLang` is not a string\n",
    "- `TargLang` is not a string\n",
    "- `VendorName` is not a string\n",
    "- `VendorMail` is not a string\n",
    "- `WordRate` is not a float\n",
    "- `CatTool` is not a string\n",
    "- `Preferred` is not None or one of the Boolean operators, True or False"
   ]
  },
  {
   "cell_type": "code",
   "execution_count": null,
   "id": "854ef143",
   "metadata": {},
   "outputs": [],
   "source": [
    "VendorDE = vd.VendorData(0.1, \"English\", \"German\", \"Thomas Zwiebel\")"
   ]
  },
  {
   "cell_type": "code",
   "execution_count": null,
   "id": "cd524417",
   "metadata": {},
   "outputs": [],
   "source": [
    "VendorDE = vd.VendorData(\"Tutorial\", 1, \"German\", \"Thomas Zwiebel\")"
   ]
  },
  {
   "cell_type": "code",
   "execution_count": null,
   "id": "d6497db2",
   "metadata": {},
   "outputs": [],
   "source": [
    "VendorDE = vd.VendorData(\"Tutorial\", \"English\", True, \"Thomas Zwiebel\")"
   ]
  },
  {
   "cell_type": "code",
   "execution_count": null,
   "id": "8b01bfed",
   "metadata": {},
   "outputs": [],
   "source": [
    "VendorDE = vd.VendorData(\"Tutorial\", \"English\", \"German\", None)"
   ]
  },
  {
   "cell_type": "code",
   "execution_count": null,
   "id": "20b5cc03",
   "metadata": {},
   "outputs": [],
   "source": [
    "VendorDE = vd.VendorData(\"Tutorial\", \"English\", \"German\", \"Thomas Zwiebel\", 3)"
   ]
  },
  {
   "cell_type": "code",
   "execution_count": null,
   "id": "7c32d39f",
   "metadata": {},
   "outputs": [],
   "source": [
    "VendorDE = vd.VendorData(\"Tutorial\", \"English\", \"German\", \"Thomas Zwiebel\", WordRate = \"0.15\")"
   ]
  },
  {
   "cell_type": "code",
   "execution_count": null,
   "id": "32715f64",
   "metadata": {},
   "outputs": [],
   "source": [
    "VendorDE = vd.VendorData(\"Tutorial\", \"English\", \"German\", \"Thomas Zwiebel\", Preferred = \"Test\")"
   ]
  },
  {
   "cell_type": "code",
   "execution_count": null,
   "id": "8b74ce10",
   "metadata": {},
   "outputs": [],
   "source": [
    "VendorDE = vd.VendorData(\"Tutorial\", \"English\", \"German\", \"Thomas Zwiebel\", CatTool = True)"
   ]
  },
  {
   "cell_type": "markdown",
   "id": "e7658f35",
   "metadata": {},
   "source": [
    "There are also some functions that ensure that:\n",
    "- `VendorMail` is a valid e-mail address by checking it against a regex string;\n",
    "- `WordRate` is not 0.00 or more than 0.15 and not negative;\n",
    "- `CatTool` is one of the following: XTM, Trados Studio, MemoQ or Memsource."
   ]
  },
  {
   "cell_type": "code",
   "execution_count": null,
   "id": "14d9561a",
   "metadata": {},
   "outputs": [],
   "source": [
    "VendorDE = vd.VendorData(\"Tutorial\", \"English\", \"German\", \"Thomas Zwiebel\", VendorMail = \"thomas.zw\")"
   ]
  },
  {
   "cell_type": "code",
   "execution_count": null,
   "id": "689a0133",
   "metadata": {},
   "outputs": [],
   "source": [
    "VendorDE = vd.VendorData(\"Tutorial\", \"English\", \"German\", \"Thomas Zwiebel\", WordRate = 0.19)"
   ]
  },
  {
   "cell_type": "code",
   "execution_count": null,
   "id": "a5a88daf",
   "metadata": {},
   "outputs": [],
   "source": [
    "VendorDE = vd.VendorData(\"Tutorial\", \"English\", \"German\", \"Thomas Zwiebel\", WordRate = 0.00)"
   ]
  },
  {
   "cell_type": "code",
   "execution_count": null,
   "id": "87ad7fb4",
   "metadata": {},
   "outputs": [],
   "source": [
    "VendorDE = vd.VendorData(\"Tutorial\", \"English\", \"German\", \"Thomas Zwiebel\", WordRate = -0.04)"
   ]
  },
  {
   "cell_type": "code",
   "execution_count": null,
   "id": "a6506797",
   "metadata": {},
   "outputs": [],
   "source": [
    "VendorDE = vd.VendorData(\"Tutorial\", \"English\", \"German\", \"Thomas Zwiebel\", CatTool = \"SDL Trados Studio\")"
   ]
  },
  {
   "cell_type": "markdown",
   "id": "35f4617f",
   "metadata": {},
   "source": [
    "As already mentioned, this kind of validation is done anytime user input is required, not only upon instantiating.\n",
    "More precisely, validation is done when:\n",
    "- One of the methods to set a value is run\n",
    "- The excel is modified using the `ModExcel` method"
   ]
  },
  {
   "cell_type": "code",
   "execution_count": null,
   "id": "adb90ded",
   "metadata": {},
   "outputs": [],
   "source": [
    "VendorDE = vd.VendorData(\"Tutorial\", \"English\", \"German\", \"Thomas Zwiebel\") #for illustration we instantiate a new instance of VendorData"
   ]
  },
  {
   "cell_type": "code",
   "execution_count": null,
   "id": "0e5da23b",
   "metadata": {},
   "outputs": [],
   "source": [
    "VendorDE.SetVendorMail(\"thomas.zw@\")"
   ]
  },
  {
   "cell_type": "code",
   "execution_count": null,
   "id": "e2f58285",
   "metadata": {},
   "outputs": [],
   "source": [
    "VendorDE.SetWordRate(0.18)"
   ]
  },
  {
   "cell_type": "code",
   "execution_count": null,
   "id": "e03407b2",
   "metadata": {},
   "outputs": [],
   "source": [
    "VendorDE.SetWordRate (0.00)"
   ]
  },
  {
   "cell_type": "code",
   "execution_count": null,
   "id": "63dc4cab",
   "metadata": {},
   "outputs": [],
   "source": [
    "VendorDE.SetWordRate(-0.04)"
   ]
  },
  {
   "cell_type": "code",
   "execution_count": null,
   "id": "4f984703",
   "metadata": {},
   "outputs": [],
   "source": [
    "VendorDE.ChangeTool(\"SDL Trados Studio\")"
   ]
  },
  {
   "cell_type": "code",
   "execution_count": null,
   "id": "2c570d8f",
   "metadata": {},
   "outputs": [],
   "source": [
    "VendorDE.SetStatus(\"None\")"
   ]
  },
  {
   "cell_type": "markdown",
   "id": "0917609e",
   "metadata": {},
   "source": [
    "To illustrate that validation is done when running the `ModExcel` method, we first have to write the data to the excel file:\n",
    "<div class=\"alert alert-danger\">\n",
    "If you run `.toExcel()` multiple times on the same vendor, it will generate multiple entries!\n",
    "</div>"
   ]
  },
  {
   "cell_type": "code",
   "execution_count": null,
   "id": "b9e3cd49",
   "metadata": {},
   "outputs": [],
   "source": [
    "VendorDE.ToExcel()"
   ]
  },
  {
   "cell_type": "markdown",
   "id": "288db7ca",
   "metadata": {},
   "source": [
    "Now we can modify the German vendor and the input will be validated:"
   ]
  },
  {
   "cell_type": "code",
   "execution_count": null,
   "id": "f9d200e7",
   "metadata": {},
   "outputs": [],
   "source": [
    "VendorDE.ModExcel(\"E-mail\", 3, \"thomaszw@\")"
   ]
  },
  {
   "cell_type": "code",
   "execution_count": null,
   "id": "3db36ec1",
   "metadata": {},
   "outputs": [],
   "source": [
    "VendorDE.ModExcel(\"CAT Tool\", 3, \"Trados Studio 2019\")"
   ]
  },
  {
   "cell_type": "code",
   "execution_count": null,
   "id": "43492fbd",
   "metadata": {},
   "outputs": [],
   "source": [
    "VendorDE.ModExcel(\"Word Rate\", 3, 0.18)"
   ]
  },
  {
   "cell_type": "code",
   "execution_count": null,
   "id": "fcc7bf99",
   "metadata": {},
   "outputs": [],
   "source": [
    "VendorDE.ModExcel(\"Status\", 3, \"Busy\")"
   ]
  },
  {
   "cell_type": "markdown",
   "id": "120be557",
   "metadata": {},
   "source": [
    "For the `ModExcel` method there's an additional validation, namely the validation of keys in order to limit the keys for which you can modify the values. Modifiable keys can be checked by running `vd.VendorData.Keys`\n",
    "Additionally it also is checked if the index is in the dictionary, otherwise the vendor is non-existent and cannot be modified.\n",
    "<div class=\"alert alert-danger\">\n",
    "You can only modify one value for one key.\n",
    "</div>"
   ]
  },
  {
   "cell_type": "code",
   "execution_count": null,
   "id": "405573dd",
   "metadata": {},
   "outputs": [],
   "source": [
    "vd.VendorData.Keys"
   ]
  },
  {
   "cell_type": "markdown",
   "id": "94af9ebd",
   "metadata": {},
   "source": [
    "If you try to modify any other key you will get an error message:"
   ]
  },
  {
   "cell_type": "code",
   "execution_count": null,
   "id": "e37f7571",
   "metadata": {},
   "outputs": [],
   "source": [
    "VendorDE.ModExcel(\"Vendor\", 2, \"John Doe\")"
   ]
  },
  {
   "cell_type": "code",
   "execution_count": null,
   "id": "4a988964",
   "metadata": {},
   "outputs": [],
   "source": [
    "VendorDE.ModExcel(\"Target Language\", 3, \"Croatian\")"
   ]
  },
  {
   "cell_type": "markdown",
   "id": "2eb97cae",
   "metadata": {},
   "source": [
    "Since there are only 4 vendors in the excel file and the index start at 0 and go up, an error message should appear when you try to modify a higher index:"
   ]
  },
  {
   "cell_type": "code",
   "execution_count": null,
   "id": "66ca7b9e",
   "metadata": {},
   "outputs": [],
   "source": [
    "VendorDE.ModExcel(\"CAT Tool\", 6, \"XTM\")"
   ]
  },
  {
   "cell_type": "markdown",
   "id": "092a40df",
   "metadata": {},
   "source": [
    "You can check for the right index by running the `ReadExcel` method for any vendor you already defined:"
   ]
  },
  {
   "cell_type": "code",
   "execution_count": null,
   "id": "38b01366",
   "metadata": {},
   "outputs": [],
   "source": [
    "VendorNL.ReadExcel()"
   ]
  },
  {
   "cell_type": "markdown",
   "id": "a1f29b57",
   "metadata": {},
   "source": [
    "Now you know the different functionalities of the script vendor__data.py and what triggers which error. Hopefully you can use this script in your daily life as a translation project manager. Have fun!"
   ]
  },
  {
   "cell_type": "markdown",
   "id": "03b81e7c",
   "metadata": {},
   "source": [
    "## Running `vendor_data.py`\n",
    "The script can also be run on its own. The script takes two optional arguments:\n",
    "- `-a` or `--add` allows the user to add a new vendor to an excel file (existing or new);\n",
    "- `-m` or `--modify` allows the user to modify a vendor in an existing excel file;\n",
    "The same validation is done as if you would import this script as a module. TypeErrors do not cause the prompts to stop but instead you get asked the same question again, ValueErrors do break off the code.\n",
    "We'll start by writing a totally new excel file and adding a vendor to it:"
   ]
  },
  {
   "cell_type": "code",
   "execution_count": null,
   "id": "a32de96d",
   "metadata": {},
   "outputs": [],
   "source": [
    "%run vendor_data.py --a"
   ]
  },
  {
   "cell_type": "markdown",
   "id": "61141753",
   "metadata": {},
   "source": [
    "A new excel file will appear next to where you stored this notebook with the name `TestProject_English`, i.e. the project name and source language we provided.\n",
    "Just like when importing the script, it is possible to leave the following data blank:\n",
    "- The vendor's email address\n",
    "- The vendors word rate\n",
    "- The tool in which the vendor will be working\n",
    "- Whether or not the vendor is a preferred vendor"
   ]
  },
  {
   "cell_type": "markdown",
   "id": "d652047e",
   "metadata": {},
   "source": [
    "If the project name and the source language are the same as for the previous vendor you've entered, this vendor will be added to the same excel file, if not a new excel file is created using the project name and the source language as the file name. You'll notice that for the prompts you leave blank the default value is enterred OR it is left blank."
   ]
  },
  {
   "cell_type": "code",
   "execution_count": null,
   "id": "7c4e5ac4",
   "metadata": {},
   "outputs": [],
   "source": [
    "%run vendor_data.py -a"
   ]
  },
  {
   "cell_type": "markdown",
   "id": "df0dca70",
   "metadata": {},
   "source": [
    "Since we're using pyipinputplus we can already avoid some errors by:\n",
    "- using the built in type validation of the package by using `pyip.inputStr` or `pyip.inputFloat`, so that the user is forced to put in a valid data type\n",
    "- using the Menu option to limit the choices, for example for the CAT Tools\n",
    "\n",
    "It is also possible to modify existing vendors. The user has to provide the project name and the source language, and is then further asked some questions regarding the vendor they want to modify:"
   ]
  },
  {
   "cell_type": "code",
   "execution_count": null,
   "id": "54012864",
   "metadata": {},
   "outputs": [],
   "source": [
    "%run vendor_data.py -m"
   ]
  },
  {
   "cell_type": "markdown",
   "id": "cce96942",
   "metadata": {},
   "source": [
    "The vendor in the excel file should now be modified.\n",
    "\n",
    "Now you are totally ready to use this script and resolve any issues that might pop up! Hopefully this script makes your life as a translation project manager easier! Have fun!"
   ]
  },
  {
   "cell_type": "markdown",
   "id": "594044d3",
   "metadata": {},
   "source": [
    "### Docstrings\n",
    "The script is completely documented with docstrings in order to ensure that the script is correclty used.\n",
    "You can read these docstrings by calling one of the following functions if you have imported the script as a module:\n",
    "```python\n",
    "help(vd)\n",
    "```\n",
    "OR\n",
    "```python\n",
    "?vd\n",
    "```\n",
    "OR\n",
    "```python\n",
    "vd.__doc__\n",
    "```"
   ]
  },
  {
   "cell_type": "markdown",
   "id": "85e46020",
   "metadata": {},
   "source": [
    "You can also read the documentation for the script if you run this code:\n",
    "```python\n",
    "%run vendor_data.py --help\n",
    "```\n",
    "OR\n",
    "```python\n",
    "%run vendor_data.py --h\n",
    "```"
   ]
  },
  {
   "cell_type": "code",
   "execution_count": null,
   "id": "927da363",
   "metadata": {},
   "outputs": [],
   "source": [
    "%run vendor_data.py -h"
   ]
  }
 ],
 "metadata": {
  "kernelspec": {
   "display_name": "Python 3 (ipykernel)",
   "language": "python",
   "name": "python3"
  },
  "language_info": {
   "codemirror_mode": {
    "name": "ipython",
    "version": 3
   },
   "file_extension": ".py",
   "mimetype": "text/x-python",
   "name": "python",
   "nbconvert_exporter": "python",
   "pygments_lexer": "ipython3",
   "version": "3.9.16"
  }
 },
 "nbformat": 4,
 "nbformat_minor": 5
}
